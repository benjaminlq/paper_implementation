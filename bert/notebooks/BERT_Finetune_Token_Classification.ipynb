{
  "cells": [
    {
      "cell_type": "code",
      "source": [
        "!pip install --upgrade datasets --quiet"
      ],
      "metadata": {
        "id": "mkBLOOYcjpir",
        "colab": {
          "base_uri": "https://localhost:8080/"
        },
        "outputId": "6e160d44-9026-45bb-f035-7d68de779bb3"
      },
      "execution_count": 1,
      "outputs": [
        {
          "output_type": "stream",
          "name": "stdout",
          "text": [
            "\u001b[?25l   \u001b[90m━━━━━━━━━━━━━━━━━━━━━━━━━━━━━━━━━━━━━━━━\u001b[0m \u001b[32m0.0/480.6 kB\u001b[0m \u001b[31m?\u001b[0m eta \u001b[36m-:--:--\u001b[0m\r\u001b[2K   \u001b[90m━━━━━━━━━━━━━━━━━━━━━━━━━━━━━━━━━━━━━━━━\u001b[0m \u001b[32m480.6/480.6 kB\u001b[0m \u001b[31m18.4 MB/s\u001b[0m eta \u001b[36m0:00:00\u001b[0m\n",
            "\u001b[?25h\u001b[?25l   \u001b[90m━━━━━━━━━━━━━━━━━━━━━━━━━━━━━━━━━━━━━━━━\u001b[0m \u001b[32m0.0/116.3 kB\u001b[0m \u001b[31m?\u001b[0m eta \u001b[36m-:--:--\u001b[0m\r\u001b[2K   \u001b[90m━━━━━━━━━━━━━━━━━━━━━━━━━━━━━━━━━━━━━━━━\u001b[0m \u001b[32m116.3/116.3 kB\u001b[0m \u001b[31m9.8 MB/s\u001b[0m eta \u001b[36m0:00:00\u001b[0m\n",
            "\u001b[?25h\u001b[?25l   \u001b[90m━━━━━━━━━━━━━━━━━━━━━━━━━━━━━━━━━━━━━━━━\u001b[0m \u001b[32m0.0/179.3 kB\u001b[0m \u001b[31m?\u001b[0m eta \u001b[36m-:--:--\u001b[0m\r\u001b[2K   \u001b[90m━━━━━━━━━━━━━━━━━━━━━━━━━━━━━━━━━━━━━━━━\u001b[0m \u001b[32m179.3/179.3 kB\u001b[0m \u001b[31m14.3 MB/s\u001b[0m eta \u001b[36m0:00:00\u001b[0m\n",
            "\u001b[?25h\u001b[?25l   \u001b[90m━━━━━━━━━━━━━━━━━━━━━━━━━━━━━━━━━━━━━━━━\u001b[0m \u001b[32m0.0/134.8 kB\u001b[0m \u001b[31m?\u001b[0m eta \u001b[36m-:--:--\u001b[0m\r\u001b[2K   \u001b[90m━━━━━━━━━━━━━━━━━━━━━━━━━━━━━━━━━━━━━━━━\u001b[0m \u001b[32m134.8/134.8 kB\u001b[0m \u001b[31m10.0 MB/s\u001b[0m eta \u001b[36m0:00:00\u001b[0m\n",
            "\u001b[?25h\u001b[?25l   \u001b[90m━━━━━━━━━━━━━━━━━━━━━━━━━━━━━━━━━━━━━━━━\u001b[0m \u001b[32m0.0/194.1 kB\u001b[0m \u001b[31m?\u001b[0m eta \u001b[36m-:--:--\u001b[0m\r\u001b[2K   \u001b[90m━━━━━━━━━━━━━━━━━━━━━━━━━━━━━━━━━━━━━━━━\u001b[0m \u001b[32m194.1/194.1 kB\u001b[0m \u001b[31m8.3 MB/s\u001b[0m eta \u001b[36m0:00:00\u001b[0m\n",
            "\u001b[?25h\u001b[31mERROR: pip's dependency resolver does not currently take into account all the packages that are installed. This behaviour is the source of the following dependency conflicts.\n",
            "gcsfs 2024.10.0 requires fsspec==2024.10.0, but you have fsspec 2024.9.0 which is incompatible.\u001b[0m\u001b[31m\n",
            "\u001b[0m"
          ]
        }
      ]
    },
    {
      "cell_type": "code",
      "source": [
        "from google.colab import drive\n",
        "import os\n",
        "\n",
        "drive.mount(\"/content/drive\")\n",
        "%cd /content/drive/MyDrive\n",
        "\n",
        "PARENT_DIR = os.getcwd()\n",
        "MAIN_DIR = os.path.join(PARENT_DIR, \"Implement Classic Papers\", \"BERT\")\n",
        "DATA_DIR = os.path.join(PARENT_DIR, \"Data\", \"Text\", \"conll2003\")"
      ],
      "metadata": {
        "colab": {
          "base_uri": "https://localhost:8080/"
        },
        "id": "Rk1Sa5Ew3yb8",
        "outputId": "46683321-819f-4591-ef3f-0e2990f47dd4"
      },
      "execution_count": 2,
      "outputs": [
        {
          "output_type": "stream",
          "name": "stdout",
          "text": [
            "Mounted at /content/drive\n",
            "/content/drive/MyDrive\n"
          ]
        }
      ]
    },
    {
      "cell_type": "code",
      "execution_count": 110,
      "metadata": {
        "id": "5EGGkcmC9F5A"
      },
      "outputs": [],
      "source": [
        "import torch\n",
        "import torch.nn as nn\n",
        "import math\n",
        "import torch.nn.functional as F\n",
        "import random\n",
        "import numpy as np\n",
        "\n",
        "from torch.optim import AdamW\n",
        "from torch.optim.lr_scheduler import LambdaLR\n",
        "from typing import List, Union, Callable, Optional, Dict\n",
        "from transformers import AutoTokenizer\n",
        "from datasets import load_dataset\n",
        "from torch.utils.data import Dataset, DataLoader\n",
        "from tqdm import tqdm\n",
        "from sklearn.metrics import f1_score, accuracy_score, precision_score, recall_score\n",
        "\n",
        "MAIN_DIR = os.getcwd()\n",
        "DEVICE = \"cuda\" if torch.cuda.is_available() else \"cpu\""
      ]
    },
    {
      "cell_type": "markdown",
      "metadata": {
        "id": "vZaop3QkikWB"
      },
      "source": [
        "# Tokenizer"
      ]
    },
    {
      "cell_type": "code",
      "execution_count": 4,
      "metadata": {
        "colab": {
          "base_uri": "https://localhost:8080/",
          "height": 310,
          "referenced_widgets": [
            "99df9e926be04130a4c1242955b82fed",
            "f45c1488672148c7b35b2816e2c3590f",
            "65887346d4d14fc9be65065df438d35d",
            "a4e48b40f5da4eb6800fa9c9fec7eb78",
            "741c0c890efa49a5ab12227467064f38",
            "27f6c4a7d63144c29d130c63c45913dd",
            "cbc5da80d7a44096b50d7c676a7e5228",
            "ed86b085a3784ff6ae67e1eb1c5ac45b",
            "af926cbc924d44bbad6147cde7e476eb",
            "5999d3d3354e472cb56af1dcef11c669",
            "a4930ce97dbd4114b038efc195cbc5f2",
            "2eeb52eb9b904ba88ac9de9380834b4e",
            "13f4cd67192e427f94649da2170d956d",
            "0a31a31c2377415bb3c7d625b04d39c4",
            "d969c48ebe484a488538ec5221477a67",
            "3d52e65ae8f04b5a98bf8e0cc77ba267",
            "4cae5a00fac74c2fb5adc5ae01e98b40",
            "a2224e412218465a8f80de4b84a177f7",
            "5b029dd6f1014bc1a2bb28e750c4699f",
            "6d77f5b878754f38ab4d61d234317b11",
            "aa96d96148bd41b4914f30f54d1e6a38",
            "247f070b178945e5a27f1f57d5f32e53",
            "f28c50c86b89473e81f4eb1eb2f9a90d",
            "93769c91a147454cafa15906b4ab326a",
            "77a62f599ee24d17bc094dcc450b115f",
            "1237587ee6bd4b728e181972576a1eb3",
            "b91ef70474e14409865c4f005a817a81",
            "be3380b23639463b889be40b1609c3eb",
            "eb7aacee8212404da05a23e2dd076d39",
            "d6d37a7e0d0040fc98b24a74f7068e2f",
            "4c0dd4693adc4e84b6c25760e932bb98",
            "283047cbde3e481b9c5197c1e8f09668",
            "428fa1a83fc84d5aa14d79df9027a741",
            "4aab26bb90bc4b4ebd8fb1a0382724fa",
            "52a55b6f96b14215ba0bed842dd9ec63",
            "b8a391bb36084905b16d5590bec1fb7f",
            "f91ce7586b294493901e727e9cb9e106",
            "cdf43c0afa9a47c7ab000e3df7ee3956",
            "cb8296cd83f0406f9fc8910def2a5168",
            "0d0e3368f3084fd788f887910326625f",
            "4f7e64fe4fa84d97ae400e090bb9e4b5",
            "664834bbb2e84bde93ee12d09cd7b2a9",
            "ea3df6b206a24d779b81979480b13020",
            "0fd64b5e60014632966c9ad8f204c992"
          ]
        },
        "id": "ESfDmPQ5ikWD",
        "outputId": "95a78d77-9b70-4467-84ff-264d3fdd15cf"
      },
      "outputs": [
        {
          "output_type": "stream",
          "name": "stderr",
          "text": [
            "/usr/local/lib/python3.10/dist-packages/huggingface_hub/utils/_token.py:89: UserWarning: \n",
            "The secret `HF_TOKEN` does not exist in your Colab secrets.\n",
            "To authenticate with the Hugging Face Hub, create a token in your settings tab (https://huggingface.co/settings/tokens), set it as secret in your Google Colab and restart your session.\n",
            "You will be able to reuse this secret in all of your notebooks.\n",
            "Please note that authentication is recommended but still optional to access public models or datasets.\n",
            "  warnings.warn(\n"
          ]
        },
        {
          "output_type": "display_data",
          "data": {
            "text/plain": [
              "tokenizer_config.json:   0%|          | 0.00/49.0 [00:00<?, ?B/s]"
            ],
            "application/vnd.jupyter.widget-view+json": {
              "version_major": 2,
              "version_minor": 0,
              "model_id": "99df9e926be04130a4c1242955b82fed"
            }
          },
          "metadata": {}
        },
        {
          "output_type": "display_data",
          "data": {
            "text/plain": [
              "config.json:   0%|          | 0.00/570 [00:00<?, ?B/s]"
            ],
            "application/vnd.jupyter.widget-view+json": {
              "version_major": 2,
              "version_minor": 0,
              "model_id": "2eeb52eb9b904ba88ac9de9380834b4e"
            }
          },
          "metadata": {}
        },
        {
          "output_type": "display_data",
          "data": {
            "text/plain": [
              "vocab.txt:   0%|          | 0.00/213k [00:00<?, ?B/s]"
            ],
            "application/vnd.jupyter.widget-view+json": {
              "version_major": 2,
              "version_minor": 0,
              "model_id": "f28c50c86b89473e81f4eb1eb2f9a90d"
            }
          },
          "metadata": {}
        },
        {
          "output_type": "display_data",
          "data": {
            "text/plain": [
              "tokenizer.json:   0%|          | 0.00/436k [00:00<?, ?B/s]"
            ],
            "application/vnd.jupyter.widget-view+json": {
              "version_major": 2,
              "version_minor": 0,
              "model_id": "4aab26bb90bc4b4ebd8fb1a0382724fa"
            }
          },
          "metadata": {}
        },
        {
          "output_type": "stream",
          "name": "stderr",
          "text": [
            "/usr/local/lib/python3.10/dist-packages/transformers/tokenization_utils_base.py:1601: FutureWarning: `clean_up_tokenization_spaces` was not set. It will be set to `True` by default. This behavior will be depracted in transformers v4.45, and will be then set to `False` by default. For more details check this issue: https://github.com/huggingface/transformers/issues/31884\n",
            "  warnings.warn(\n"
          ]
        }
      ],
      "source": [
        "tokenizer = AutoTokenizer.from_pretrained(\n",
        "    # os.path.join(MAIN_DIR, \"tokenizers\", \"google-bert\", \"bert-large-uncased\")\n",
        "    \"bert-base-cased\"\n",
        "    )"
      ]
    },
    {
      "cell_type": "markdown",
      "metadata": {
        "id": "U7fnubDlikWE"
      },
      "source": [
        "# Finetuning\n",
        "\n",
        "- Task Type: NER\n",
        "- Dataset: CoNLL-2003"
      ]
    },
    {
      "cell_type": "markdown",
      "metadata": {
        "id": "4WmJ2AUEikWF"
      },
      "source": [
        "## Embeddings\n",
        "- Token embeddings: For each token in vocabulary\n",
        "- Absolute positional embedding: Using sinusoidal function to model absolute position in the sentence sequence.\n",
        "- Segment Embedding: Used for next sentence prediction and NLI tasks"
      ]
    },
    {
      "cell_type": "code",
      "execution_count": 5,
      "metadata": {
        "id": "22p-SaYJikWF"
      },
      "outputs": [],
      "source": [
        "class SinusoidalPositionalEncoding(nn.Module):\n",
        "    def __init__(\n",
        "        self, d_model: int, dropout: float=0.1, max_len: int=512\n",
        "    ):\n",
        "        super(SinusoidalPositionalEncoding, self).__init__()\n",
        "        self.d_model = d_model\n",
        "        self.dropout = nn.Dropout(p=dropout)\n",
        "        pe = torch.zeros(size=(max_len, d_model)) # (max_len, d_model)\n",
        "        const_term = math.log(10000) / d_model\n",
        "        div_terms = torch.exp(-torch.arange(0, d_model, 2) * const_term) # (d_model//2)\n",
        "        positions = torch.arange(0, max_len).unsqueeze(1) # (max_len, 1)\n",
        "        pe[:, ::2] = torch.sin(positions*div_terms)  # sin(pos * div_term)\n",
        "        pe[:, 1::2] = torch.cos(positions*div_terms)  # sin(pos * div_term)\n",
        "        pe = pe.unsqueeze(0)\n",
        "        self.register_buffer(\"pe\", pe)\n",
        "\n",
        "    def forward(\n",
        "        self, inputs: torch.Tensor\n",
        "    ):\n",
        "        # Input sequence: (batch_size, seq_length)\n",
        "        seq_len = inputs.size(1)\n",
        "        x = self.pe[:, : seq_len, :].requires_grad_(False)\n",
        "        return self.dropout(x)\n",
        "\n",
        "class TokenEmbeddings(nn.Module):\n",
        "    def __init__(\n",
        "        self,\n",
        "        d_model: int,\n",
        "        vocab_size: int=30522,\n",
        "        padding_idx: int=0\n",
        "    ):\n",
        "        super(TokenEmbeddings, self).__init__()\n",
        "        self.d_model, self.vocab_size = d_model, vocab_size\n",
        "        self.embeddings = nn.Embedding(\n",
        "            num_embeddings=vocab_size,\n",
        "            embedding_dim=d_model, padding_idx=padding_idx\n",
        "        )\n",
        "\n",
        "    def forward(\n",
        "        self, inputs: torch.Tensor\n",
        "    ):\n",
        "        return self.embeddings(inputs) * math.sqrt(self.d_model)\n",
        "\n",
        "class SegmentEmbedding(nn.Module):\n",
        "    def __init__(\n",
        "        self,\n",
        "        d_model: int = 768,\n",
        "        padding_idx: int = 2,\n",
        "    ):\n",
        "        super(SegmentEmbedding, self).__init__()\n",
        "        self.padding_idx = padding_idx\n",
        "        self.embedding = nn.Embedding(\n",
        "                3, embedding_dim=d_model, padding_idx=padding_idx\n",
        "            )\n",
        "\n",
        "    def forward(\n",
        "        self,\n",
        "        token_types_id: torch.Tensor, # (batch_size, seq_len)\n",
        "        attn_mask: Optional[torch.Tensor] = None\n",
        "        ):\n",
        "        token_types_id = token_types_id.masked_fill(\n",
        "            attn_mask==0, self.padding_idx\n",
        "        )\n",
        "        segment_embeddings = self.embedding(token_types_id)\n",
        "        return segment_embeddings # (batch_size, seq_len, d_model)\n",
        "\n",
        "class BERTEmbedding(nn.Module):\n",
        "    def __init__(\n",
        "        self,\n",
        "        d_model: int = 768,\n",
        "        vocab_size: int = 30522,\n",
        "        use_segment_embedding: bool = False,\n",
        "        dropout: float = 0.1,\n",
        "        token_padding_idx: int = 0,\n",
        "        segment_padding_idx: int = 2\n",
        "    ):\n",
        "        super(BERTEmbedding, self).__init__()\n",
        "        self.token_embedding = TokenEmbeddings(\n",
        "            d_model=d_model,\n",
        "            vocab_size=vocab_size,\n",
        "            padding_idx=token_padding_idx\n",
        "            )\n",
        "        self.positional_embedding = SinusoidalPositionalEncoding(\n",
        "            d_model=d_model, max_len=512\n",
        "        )\n",
        "        self.segment_embedding = None\n",
        "        if use_segment_embedding:\n",
        "            self.segment_embedding = SegmentEmbedding(\n",
        "                d_model=d_model, padding_idx=segment_padding_idx\n",
        "            )\n",
        "        self.dropout = nn.Dropout(p=dropout)\n",
        "\n",
        "    def forward(\n",
        "        self,\n",
        "        inputs: torch.Tensor, # (batch_size, seq_len)\n",
        "        token_type_ids: torch.Tensor,\n",
        "        attn_mask: Optional[torch.Tensor] = None,\n",
        "    ) -> torch.Tensor:\n",
        "        token_embeddings = self.token_embedding(inputs)\n",
        "        pos_embeddings = self.positional_embedding(inputs)\n",
        "        embeddings = token_embeddings + pos_embeddings\n",
        "        if self.segment_embedding:\n",
        "            embeddings = embeddings + self.segment_embedding(token_type_ids, attn_mask)\n",
        "        return self.dropout(embeddings)"
      ]
    },
    {
      "cell_type": "markdown",
      "metadata": {
        "id": "IMWIb-hBikWH"
      },
      "source": [
        "## Model Architecture"
      ]
    },
    {
      "cell_type": "code",
      "execution_count": 6,
      "metadata": {
        "id": "qh8fG04T9_Ap"
      },
      "outputs": [],
      "source": [
        "class GroupAttentionHead(nn.Module):\n",
        "    def __init__(\n",
        "        self,\n",
        "        d_model: int,\n",
        "        d_q: int,\n",
        "        d_k: int,\n",
        "        d_v: int,\n",
        "        n_heads: int = 1,\n",
        "        dropout: float = 0.1\n",
        "    ):\n",
        "        super(GroupAttentionHead, self).__init__()\n",
        "        self.d_q, self.d_k, self.d_v = d_q, d_k, d_v\n",
        "        self.Q = nn.ModuleList([nn.Linear(d_model, d_q) for _ in range(n_heads)])\n",
        "        self.K = nn.Linear(d_model, d_k)\n",
        "        self.V = nn.Linear(d_model, d_v)\n",
        "        self.dropout = dropout\n",
        "\n",
        "    def forward(\n",
        "        self,\n",
        "        query: torch.Tensor, key: torch.Tensor, value: torch.Tensor,\n",
        "        attn_mask: Optional[torch.Tensor]=None,\n",
        "        dropout: Optional[float]=None,\n",
        "        is_causal: bool=False\n",
        "    ):\n",
        "        \"\"\"Calculate attention values for a single attention head.\n",
        "        For self attention, q = k = v; Dimension = (batch_size, seq_len, d_model)\n",
        "        For seq2seq cross attention\n",
        "        - q = output of masked attention previous component of the decoder. Dimension = (batch_size, tgt_seq_len, d_model)\n",
        "        - k = v = output of the encoder. Dimension = (batch_size, src_seq_len, d_model)\n",
        "        \"\"\"\n",
        "        dropout = dropout or self.dropout\n",
        "        query = torch.cat(\n",
        "            [q(query).unsqueeze(1) for q in self.Q], dim = 1\n",
        "        ) # (batch_size, n_groups, seq_len, d_q)\n",
        "        key = self.K(key).unsqueeze(1) # (batch_size, 1, seq_len, d_k)\n",
        "        value = self.V(value).unsqueeze(1) # (batch_size, 1, seq_len, d_v)\n",
        "        if isinstance(attn_mask, torch.Tensor):\n",
        "            attn_mask = attn_mask.unsqueeze(1).unsqueeze(1).type(torch.bool)\n",
        "\n",
        "        values = F.scaled_dot_product_attention(\n",
        "            query, key, value, attn_mask, dropout, is_causal\n",
        "            )\n",
        "\n",
        "        return values\n",
        "\n",
        "class MultiHeadedAttention(nn.Module):\n",
        "    def __init__(\n",
        "        self,\n",
        "        d_model: int = 768,\n",
        "        n_heads: int = 12,\n",
        "        n_groups: int = 12,\n",
        "        dropout: float = 0.1,\n",
        "        d_v: Optional[int] = None\n",
        "    ):\n",
        "        super(MultiHeadedAttention, self).__init__()\n",
        "        self.d_model = d_model\n",
        "        self.n_heads = n_heads\n",
        "        self.n_groups = n_groups\n",
        "        assert d_model % n_heads == 0, \"d_model must be divisible by n_heads\"\n",
        "        assert n_heads % n_groups == 0, \"Total number of heads must be divisible by number of groups\"\n",
        "        self.heads_per_group = n_heads // n_groups\n",
        "        self.d_q = d_model // n_heads\n",
        "        self.d_k = self.d_q\n",
        "        self.d_v = d_v or self.d_q\n",
        "        self.attn_heads = nn.ModuleList(\n",
        "            [\n",
        "                GroupAttentionHead(d_model, self.d_q, self.d_k, self.d_v, n_heads=self.heads_per_group, dropout=dropout)\n",
        "                for _ in range(n_groups)\n",
        "                ]\n",
        "            )\n",
        "        self.O = nn.Linear(self.d_v * self.n_heads, self.d_model)\n",
        "\n",
        "    def forward(\n",
        "        self,\n",
        "        query: torch.Tensor, key: torch.Tensor, value: torch.Tensor,\n",
        "        attn_mask: Optional[torch.Tensor]=None,\n",
        "        dropout: Optional[float]=None,\n",
        "        is_causal: bool=False\n",
        "    ):\n",
        "        batch_size = query.size(0)\n",
        "        tgt_seq_len = value.size(1)\n",
        "        values = torch.cat(\n",
        "            [\n",
        "                att_head(\n",
        "                    query, key, value,\n",
        "                    attn_mask=attn_mask, dropout=dropout, is_causal=is_causal)\n",
        "                for att_head in self.attn_heads\n",
        "                ], dim = 1\n",
        "            ).transpose(1, 2) # (bs, tgt_seq_len, n_heads * n_groups, d_v)\n",
        "        values = values.contiguous().view(batch_size, tgt_seq_len, -1)\n",
        "        return self.O(values)\n",
        "\n",
        "class PointwiseFeedForward(nn.Module):\n",
        "    def __init__(\n",
        "        self,\n",
        "        d_model: int = 768,\n",
        "        d_feedfoward: Optional[int] = None,\n",
        "        activation: str = \"gelu\",\n",
        "    ):\n",
        "        super(PointwiseFeedForward, self).__init__()\n",
        "        self.d_feedforward = d_feedfoward or d_model * 4\n",
        "        self.linear1 = nn.Linear(d_model, self.d_feedforward)\n",
        "        self.linear2 = nn.Linear(self.d_feedforward, d_model)\n",
        "        self.activation = getattr(nn.functional, activation)\n",
        "\n",
        "    def forward(\n",
        "        self, inputs: torch.Tensor\n",
        "    ):\n",
        "        x = self.linear1(inputs)\n",
        "        x = self.linear2(self.activation(x))\n",
        "        return x\n",
        "\n",
        "class ResidualLayer(nn.Module):\n",
        "    def __init__(\n",
        "        self,\n",
        "        d_model: int = 768,\n",
        "        dropout: float = 0.1\n",
        "    ):\n",
        "        super(ResidualLayer, self).__init__()\n",
        "        self.d_model = d_model\n",
        "        self.layer_norm = nn.LayerNorm(normalized_shape=d_model, eps=1e-5)\n",
        "        self.dropout = nn.Dropout(p=dropout)\n",
        "\n",
        "    def forward(\n",
        "        self, inputs: torch.Tensor, sublayer: Callable\n",
        "    ):\n",
        "        return self.layer_norm(inputs + self.dropout(sublayer(inputs)))\n",
        "\n",
        "class EncoderBlock(nn.Module):\n",
        "    def __init__(\n",
        "        self,\n",
        "        d_model: int=768,\n",
        "        n_heads: int=12,\n",
        "        n_groups: int=3,\n",
        "        dropout: float=0.1,\n",
        "        d_v: Optional[int] = None,\n",
        "        d_feedfoward: Optional[int] = None,\n",
        "        activation: str = \"gelu\",\n",
        "    ):\n",
        "        super(EncoderBlock, self).__init__()\n",
        "        self.d_model = d_model\n",
        "        self.multihead_group_attention = MultiHeadedAttention(\n",
        "            d_model=d_model, n_heads=n_heads, n_groups=n_groups, dropout=dropout, d_v=d_v,\n",
        "        )\n",
        "        self.feedforward = PointwiseFeedForward(d_model=d_model, d_feedfoward=d_feedfoward, activation=activation)\n",
        "        self.att_residual = ResidualLayer(d_model=d_model)\n",
        "        self.ff_residual = ResidualLayer(d_model=d_model)\n",
        "\n",
        "    def forward(\n",
        "        self,\n",
        "        inputs: torch.Tensor,\n",
        "        attn_mask: Optional[torch.Tensor] = None,\n",
        "        is_causal: bool = False\n",
        "    ):\n",
        "        x = self.att_residual(\n",
        "            inputs,\n",
        "            lambda x: self.multihead_group_attention(\n",
        "                x, x, x, attn_mask=attn_mask, is_causal=is_causal\n",
        "            )\n",
        "        )\n",
        "        x = self.ff_residual(x, self.feedforward)\n",
        "        return x\n",
        "\n",
        "class TransformerEncoder(nn.Module):\n",
        "    def __init__(\n",
        "        self,\n",
        "        d_model: int=768,\n",
        "        n_layers: int=12,\n",
        "        n_heads: int=12,\n",
        "        n_groups: int=3,\n",
        "        dropout: float=0.1,\n",
        "        d_v: Optional[int] = None,\n",
        "        d_feedfoward: Optional[int] = None,\n",
        "        activation: str = \"gelu\",\n",
        "    ):\n",
        "        super(TransformerEncoder, self).__init__()\n",
        "        self.d_model = d_model\n",
        "        self.layers = nn.ModuleList(\n",
        "            [\n",
        "                EncoderBlock(\n",
        "                    d_model=d_model, n_heads=n_heads, n_groups=n_groups, dropout=dropout, d_v=d_v,\n",
        "                    d_feedfoward=d_feedfoward, activation=activation)\n",
        "                for _ in range(n_layers)\n",
        "                ]\n",
        "        )\n",
        "\n",
        "    def forward(\n",
        "        self,\n",
        "        x: torch.Tensor,\n",
        "        attn_mask: Optional[torch.Tensor] = None,\n",
        "        is_causal: bool = False\n",
        "    ):\n",
        "        for layer in self.layers:\n",
        "            x = layer(x, attn_mask=attn_mask, is_causal=is_causal)\n",
        "        return x\n",
        "\n",
        "class BERTBackbone(nn.Module):\n",
        "    def __init__(\n",
        "        self,\n",
        "        d_model: int=768,\n",
        "        vocab_size: int=30522,\n",
        "        n_layers: int=12,\n",
        "        n_heads: int=12,\n",
        "        n_groups: int=3,\n",
        "        dropout: float=0.1,\n",
        "        d_v: Optional[int] = None,\n",
        "        d_feedfoward: Optional[int] = None,\n",
        "        activation: str = \"gelu\",\n",
        "        use_segment_embedding: bool = False\n",
        "    ):\n",
        "        super(BERTBackbone, self).__init__()\n",
        "\n",
        "        self.embedding = BERTEmbedding(\n",
        "            d_model=d_model,\n",
        "            vocab_size=vocab_size,\n",
        "            use_segment_embedding=use_segment_embedding,\n",
        "            dropout=dropout\n",
        "        )\n",
        "\n",
        "        self.encoder = TransformerEncoder(\n",
        "            d_model=d_model,\n",
        "            n_layers=n_layers,\n",
        "            n_heads=n_heads,\n",
        "            n_groups=n_groups,\n",
        "            dropout=dropout,\n",
        "            d_v=d_v,\n",
        "            d_feedfoward=d_feedfoward,\n",
        "            activation=activation\n",
        "        )\n",
        "\n",
        "        self.d_model = d_model\n",
        "        self.vocab_size = vocab_size\n",
        "\n",
        "        # Initialize weights\n",
        "        for p in self.parameters():\n",
        "            if p.dim() > 1:\n",
        "                nn.init.xavier_uniform_(p)\n",
        "\n",
        "    def forward(\n",
        "        self,\n",
        "        inputs: torch.Tensor, # (batch_size, seq_len)\n",
        "        token_type_ids: torch.Tensor,\n",
        "        attn_mask: Optional[torch.Tensor] = None,\n",
        "        is_causal: bool = False\n",
        "    ):\n",
        "        x = self.embedding(\n",
        "            inputs=inputs, token_type_ids=token_type_ids, attn_mask=attn_mask\n",
        "        )\n",
        "        x = self.encoder(\n",
        "            x,\n",
        "            attn_mask=attn_mask.type(torch.float),\n",
        "            is_causal=is_causal\n",
        "            )\n",
        "        return x\n",
        "\n",
        "class BertForTokenClassification(nn.Module):\n",
        "    def __init__(\n",
        "        self,\n",
        "        bert: BERTBackbone,\n",
        "        num_classes: int,\n",
        "        projection_layer: Optional[nn.Module] = None\n",
        "    ):\n",
        "        super(BertForTokenClassification, self).__init__()\n",
        "        self.bert = bert\n",
        "        self.num_classes = num_classes\n",
        "        self.d_model = self.bert.d_model\n",
        "        self.proj = projection_layer or nn.Linear(\n",
        "            self.d_model, num_classes\n",
        "        )\n",
        "\n",
        "    def forward(\n",
        "        self,\n",
        "        input_ids: torch.Tensor,\n",
        "        token_type_ids: torch.Tensor,\n",
        "        attn_mask: Optional[torch.Tensor] = None,\n",
        "        is_causal: bool = False\n",
        "    ):\n",
        "        final_hiddens = self.bert(\n",
        "            inputs = input_ids,\n",
        "            token_type_ids = token_type_ids,\n",
        "            attn_mask = attn_mask,\n",
        "            is_causal = is_causal\n",
        "        )\n",
        "        return self.proj(final_hiddens) # Use CrossEntropyLoss"
      ]
    },
    {
      "cell_type": "code",
      "source": [
        "def _extract_first_word_indices(\n",
        "    word_ids: List[int]\n",
        "):\n",
        "    extracted_indices = []\n",
        "    curr_word_id = None\n",
        "    for idx, word_id in enumerate(word_ids):\n",
        "        if word_id is not None and word_id != curr_word_id:\n",
        "            extracted_indices.append(idx)\n",
        "            curr_word_id = word_id\n",
        "    return extracted_indices\n",
        "\n",
        "def _map_words_to_tokens(\n",
        "    word_ids: List[int]\n",
        "):\n",
        "    words_to_tokens_mapping = {}\n",
        "    for idx, word_id in enumerate(word_ids):\n",
        "        if word_id is not None:\n",
        "            if word_id in words_to_tokens_mapping:\n",
        "                words_to_tokens_mapping[word_id].append(idx)\n",
        "            else:\n",
        "                words_to_tokens_mapping[word_id] = [idx]\n",
        "\n",
        "    return words_to_tokens_mapping\n",
        "\n",
        "def word_level_prediction(\n",
        "    probs: torch.Tensor, # (token_seq_len, num_classes)\n",
        "    word_ids: List[int], # (word_seq_len)\n",
        "    aggregation_strategy: str = \"first\"\n",
        "):\n",
        "    if aggregation_strategy == \"first\":\n",
        "        extracted_indices = _extract_first_word_indices(word_ids)\n",
        "        extracted_probs = probs[extracted_indices, :] # (word_seq_len, num_classes)\n",
        "        return extracted_probs.argmax(dim=-1)\n",
        "    elif aggregation_strategy == \"mean\":\n",
        "        words_to_tokens_mapping = _map_words_to_tokens(word_ids)\n",
        "        print(words_to_tokens_mapping)\n",
        "        token_probs = []\n",
        "        for word_id, token_indices in words_to_tokens_mapping.items():\n",
        "            extracted_probs = probs[token_indices, :] # (n_tokens_per_word, num_classes)\n",
        "            avg_probs = extracted_probs.mean(dim=0) # (num_classes)\n",
        "            token_probs.append(avg_probs)\n",
        "        return torch.stack(token_probs, dim=0).argmax(dim=-1)\n",
        "    else:\n",
        "        raise ValueError(\"Invalid Aggregation Strategy Type!!!\")"
      ],
      "metadata": {
        "id": "Jqwo2R07HU5v"
      },
      "execution_count": 64,
      "outputs": []
    },
    {
      "cell_type": "markdown",
      "metadata": {
        "id": "oDY4CWFUikWK"
      },
      "source": [
        "# Data Preparation\n",
        "\n"
      ]
    },
    {
      "cell_type": "code",
      "source": [
        "dataset = load_dataset(\"arrow\", data_files = {\n",
        "    \"train\": os.path.join(DATA_DIR, \"train\", \"data-00000-of-00001.arrow\"),\n",
        "    \"validation\": os.path.join(DATA_DIR, \"validation\", \"data-00000-of-00001.arrow\"),\n",
        "    \"test\": os.path.join(DATA_DIR, \"test\", \"data-00000-of-00001.arrow\")\n",
        "    })"
      ],
      "metadata": {
        "colab": {
          "base_uri": "https://localhost:8080/",
          "height": 113,
          "referenced_widgets": [
            "217b384d4dd84116911d69a7c06233fb",
            "48fa8106325449b3a82ccdc431899883",
            "5b9314b5e2fb4d2c8f1f659820b11921",
            "2b0d04cd586c4d5083736efa442b7ab9",
            "d2d1b652531149a199536b1a899f8c75",
            "bea611372d2e4f259fe6affce87cb428",
            "69c970870ca04f198d328b0a118eca0c",
            "e9db45eddf35442eb313f1dd054356ff",
            "98488a1e05bb42c2bf024cc6e159b698",
            "fc4f2480a1074e63997d19bb274af077",
            "e23561126634480191a22a2816f2e25b",
            "779adf0072ec46c0914f71256aa0519b",
            "4aeb5446bf0c48959be07f541e5c55da",
            "95f083c6e2d04d6592fa1a72267c2066",
            "3ac4d79e99c047e0bea1ab1a3bed4d9d",
            "ff38472d6c6948c6a140513147115ac4",
            "3056603cbb774113bb3d1642f43c50e5",
            "5f110b8e70b3400892db6e68ca70ab52",
            "dc7ea15feea64013a15f8463b68eca0f",
            "a95f3ec5e29049d89ddf249e29812fed",
            "98333574ac0b41e3b2fec445dc21de1f",
            "b61e6170f7e644f38d013a74a043def4",
            "62ec6f54e29248aca4c3f3247224fa52",
            "9f3ebdaf2009403aa63d9653cde64d87",
            "cf28e204eba740c4b066f953b416606d",
            "1cda2aded44e4fc08368ddfb7169c19c",
            "716ce678e96d444fa2b916fdf29fbf6d",
            "a7daf984c4a246bcad7d88766dd9d360",
            "423303fb0638417a9790d2be52eff502",
            "733523efe05f4bdb81d940ff0c0953fb",
            "12356c2083ae4af9953e41dd6f72f8a5",
            "42676599c402416097af80304ea62313",
            "f4754ee0bf8e466f9529f542f6d6d6bd"
          ]
        },
        "id": "is6Q8-iPB5Wc",
        "outputId": "e39c8001-8b4d-4c60-f258-8883284dca7f"
      },
      "execution_count": 7,
      "outputs": [
        {
          "output_type": "display_data",
          "data": {
            "text/plain": [
              "Generating train split: 0 examples [00:00, ? examples/s]"
            ],
            "application/vnd.jupyter.widget-view+json": {
              "version_major": 2,
              "version_minor": 0,
              "model_id": "217b384d4dd84116911d69a7c06233fb"
            }
          },
          "metadata": {}
        },
        {
          "output_type": "display_data",
          "data": {
            "text/plain": [
              "Generating validation split: 0 examples [00:00, ? examples/s]"
            ],
            "application/vnd.jupyter.widget-view+json": {
              "version_major": 2,
              "version_minor": 0,
              "model_id": "779adf0072ec46c0914f71256aa0519b"
            }
          },
          "metadata": {}
        },
        {
          "output_type": "display_data",
          "data": {
            "text/plain": [
              "Generating test split: 0 examples [00:00, ? examples/s]"
            ],
            "application/vnd.jupyter.widget-view+json": {
              "version_major": 2,
              "version_minor": 0,
              "model_id": "62ec6f54e29248aca4c3f3247224fa52"
            }
          },
          "metadata": {}
        }
      ]
    },
    {
      "cell_type": "code",
      "execution_count": 74,
      "metadata": {
        "id": "cpP3lZPoikWL"
      },
      "outputs": [],
      "source": [
        "def _align_token_labels(\n",
        "    word_labels,\n",
        "    word_ids,\n",
        "    special_tokens_mask,\n",
        "    offset_mappings,\n",
        "    ignore_token_id: int= -100,\n",
        "    aggregation_strategy: str = \"first\"\n",
        "):\n",
        "    batch_size = special_tokens_mask.size(0)\n",
        "    seq_len = special_tokens_mask.size(1)\n",
        "    token_labels = torch.ones((batch_size, seq_len), dtype=torch.long) * ignore_token_id\n",
        "\n",
        "    for seq_idx in range(batch_size):\n",
        "        for token_idx in range(seq_len):\n",
        "            if aggregation_strategy == \"first\":\n",
        "                if special_tokens_mask[seq_idx][token_idx] == 0 and offset_mappings[seq_idx][token_idx][0] == 0:\n",
        "                    token_labels[seq_idx][token_idx] = word_labels[seq_idx][word_ids[seq_idx][token_idx]]\n",
        "            elif aggregation_strategy == \"mean\":\n",
        "                if special_tokens_mask[seq_idx][token_idx] == 0:\n",
        "                    token_labels[seq_idx][token_idx] = word_labels[seq_idx][word_ids[seq_idx][token_idx]]\n",
        "            else:\n",
        "                raise ValueError(\"Invalid Aggregation Strategy!!!\")\n",
        "\n",
        "    return token_labels\n",
        "\n",
        "class CoNLL2003Dataset(Dataset):\n",
        "    def __init__(\n",
        "        self, dataset: Dataset,\n",
        "    ):\n",
        "        self.dataset = dataset\n",
        "        self.id2classes = {idx:class_name for idx, class_name in enumerate(self.dataset.features[\"ner_tags\"].feature.names)}\n",
        "        self.classes2id = {class_name:idx for idx, class_name in enumerate(self.dataset.features[\"ner_tags\"].feature.names)}\n",
        "\n",
        "    def __len__(self):\n",
        "        return len(self.dataset)\n",
        "\n",
        "    def __getitem__(self, idx):\n",
        "        words = self.dataset[idx]['tokens']\n",
        "        labels = self.dataset[idx]['ner_tags']\n",
        "        return (words, labels)\n",
        "\n",
        "class CoNLL2003DataManager:\n",
        "    def __init__(\n",
        "        self,\n",
        "        train_dataset: Dataset,\n",
        "        val_dataset: Dataset,\n",
        "        test_dataset: Dataset,\n",
        "        tokenizer: Callable,\n",
        "        aggregation_strategy = \"first\",\n",
        "        ignore_token_id: int = -100\n",
        "    ):\n",
        "        self.train_dataset = train_dataset\n",
        "        self.val_dataset = val_dataset\n",
        "        self.test_dataset = test_dataset\n",
        "        self.tokenizer = tokenizer\n",
        "        self.ignore_token_id = ignore_token_id\n",
        "        self.aggregation_strategy = aggregation_strategy\n",
        "\n",
        "    def collate_fn(self, batch):\n",
        "        words, word_labels = zip(*batch)\n",
        "\n",
        "        tokens_info = self.tokenizer(\n",
        "            words,\n",
        "            is_split_into_words = True if isinstance(words[0], list) else False,\n",
        "            padding=True,\n",
        "            return_offsets_mapping=True,\n",
        "            return_special_tokens_mask=True,\n",
        "            return_tensors=\"pt\"\n",
        "        )\n",
        "        input_ids = tokens_info[\"input_ids\"]\n",
        "        offset_mappings = tokens_info[\"offset_mapping\"]\n",
        "        special_tokens_mask = tokens_info[\"special_tokens_mask\"]\n",
        "        word_ids = [tokens_info.word_ids(idx) for idx in range(input_ids.size(0))]\n",
        "\n",
        "        tokens_info[\"labels\"] = _align_token_labels(\n",
        "            word_labels=word_labels,\n",
        "            word_ids=word_ids,\n",
        "            special_tokens_mask=special_tokens_mask,\n",
        "            offset_mappings=offset_mappings,\n",
        "            ignore_token_id=self.ignore_token_id,\n",
        "            aggregation_strategy=self.aggregation_strategy\n",
        "        )\n",
        "        tokens_info[\"word_ids\"] = word_ids\n",
        "        tokens_info[\"word_labels\"] = word_labels\n",
        "\n",
        "        return tokens_info\n",
        "\n",
        "    def get_train_dataloader(\n",
        "        self, batch_size = 32,\n",
        "    ):\n",
        "        return DataLoader(\n",
        "            self.train_dataset, batch_size=batch_size, shuffle=True, drop_last=True, num_workers = 1, pin_memory=True, collate_fn = self.collate_fn\n",
        "        )\n",
        "\n",
        "    def get_validation_dataloader(\n",
        "        self, batch_size = 32,\n",
        "    ):\n",
        "        return DataLoader(\n",
        "            self.val_dataset, batch_size=batch_size, shuffle=False, drop_last=False, num_workers = 1, pin_memory=True, collate_fn = self.collate_fn\n",
        "        )\n",
        "\n",
        "    def get_test_dataloader(\n",
        "        self, batch_size = 32,\n",
        "    ):\n",
        "        return DataLoader(\n",
        "            self.test_dataset, batch_size=batch_size, shuffle=False, drop_last=False, num_workers = 1, pin_memory=True, collate_fn = self.collate_fn\n",
        "        )"
      ]
    },
    {
      "cell_type": "markdown",
      "source": [
        "# Trainer Class"
      ],
      "metadata": {
        "id": "RFCvkEHvUgdE"
      }
    },
    {
      "cell_type": "code",
      "execution_count": 115,
      "metadata": {
        "id": "U4vwgLbQikWM"
      },
      "outputs": [],
      "source": [
        "def custom_lr_schedule(\n",
        "    step_no: int, warm_up: int = 10000, total_steps: int = 100000\n",
        "):\n",
        "    post_warm_up_steps = total_steps - warm_up\n",
        "    if step_no == 0:\n",
        "        step_no = 1\n",
        "    if step_no <= warm_up:\n",
        "        return step_no / warm_up\n",
        "    else:\n",
        "        return (total_steps - step_no) / post_warm_up_steps\n",
        "\n",
        "def _extract_first_word_indices(\n",
        "    word_ids: List[int]\n",
        "):\n",
        "    extracted_indices = []\n",
        "    curr_word_id = None\n",
        "    for idx, word_id in enumerate(word_ids):\n",
        "        if word_id is not None and word_id != curr_word_id:\n",
        "            extracted_indices.append(idx)\n",
        "            curr_word_id = word_id\n",
        "    return extracted_indices\n",
        "\n",
        "def _map_words_to_tokens(\n",
        "    word_ids: List[int]\n",
        "):\n",
        "    words_to_tokens_mapping = {}\n",
        "    for idx, word_id in enumerate(word_ids):\n",
        "        if word_id is not None:\n",
        "            if word_id in words_to_tokens_mapping:\n",
        "                words_to_tokens_mapping[word_id].append(idx)\n",
        "            else:\n",
        "                words_to_tokens_mapping[word_id] = [idx]\n",
        "\n",
        "    return words_to_tokens_mapping\n",
        "\n",
        "def word_level_prediction(\n",
        "    probs: torch.Tensor, # (token_seq_len, num_classes)\n",
        "    word_ids: List[int], # (word_seq_len)\n",
        "    aggregation_strategy: str = \"first\"\n",
        "):\n",
        "    if aggregation_strategy == \"first\":\n",
        "        extracted_indices = _extract_first_word_indices(word_ids)\n",
        "        extracted_probs = probs[extracted_indices, :] # (word_seq_len, num_classes)\n",
        "        return extracted_probs.argmax(dim=-1)\n",
        "    elif aggregation_strategy == \"mean\":\n",
        "        words_to_tokens_mapping = _map_words_to_tokens(word_ids)\n",
        "        print(words_to_tokens_mapping)\n",
        "        token_probs = []\n",
        "        for word_id, token_indices in words_to_tokens_mapping.items():\n",
        "            extracted_probs = probs[token_indices, :] # (n_tokens_per_word, num_classes)\n",
        "            avg_probs = extracted_probs.mean(dim=0) # (num_classes)\n",
        "            token_probs.append(avg_probs)\n",
        "        return torch.stack(token_probs, dim=0).argmax(dim=-1)\n",
        "    else:\n",
        "        raise ValueError(\"Invalid Aggregation Strategy Type!!!\")\n",
        "\n",
        "class TrainState:\n",
        "    n_steps: int = 0\n",
        "    n_updates: int = 0\n",
        "    train_loss = {\"step\": [], \"epoch\": []}\n",
        "    val_loss = {\"step\": [], \"epoch\": []}\n",
        "    lr = []\n",
        "\n",
        "class BERTFTTrainer:\n",
        "    def __init__(\n",
        "        self,\n",
        "        model: nn.Module,\n",
        "        optimizer_args: Dict,\n",
        "        data_manager,\n",
        "        device: str,\n",
        "    ):\n",
        "        self.model = model.to(device)\n",
        "        self.optimizer_args = optimizer_args\n",
        "        self.device = device\n",
        "        self.train_state = TrainState()\n",
        "        self.accumulation_steps = optimizer_args[\"accumulation_steps\"]\n",
        "        self.data_manager = data_manager\n",
        "\n",
        "        self.optimizer = AdamW(\n",
        "            params = self.model.parameters(),\n",
        "            lr = optimizer_args[\"lr\"],\n",
        "            betas = optimizer_args[\"betas\"],\n",
        "            weight_decay = optimizer_args[\"weight_decay\"]\n",
        "        )\n",
        "\n",
        "        self.scheduler = LambdaLR(\n",
        "            optimizer=self.optimizer,\n",
        "            lr_lambda=lambda x: custom_lr_schedule(\n",
        "                x, warm_up=optimizer_args[\"warmup\"], total_steps=optimizer_args[\"total_steps\"]\n",
        "                )\n",
        "            )\n",
        "        self.loss_criterion = nn.CrossEntropyLoss(ignore_index=self.data_manager.ignore_token_id)\n",
        "        print(\"Total Parameters:\", sum([p.nelement() for p in self.model.parameters()]))\n",
        "\n",
        "    def run_epoch(\n",
        "        self,\n",
        "        epoch: int,\n",
        "        dataloader: DataLoader,\n",
        "        train_state: Optional[TrainState] = None,\n",
        "        is_train: bool = True\n",
        "    ):\n",
        "        aggregation_strategy = self.data_manager.aggregation_strategy\n",
        "        train_state = train_state or self.train_state\n",
        "        if is_train:\n",
        "            self.model.train()\n",
        "        else:\n",
        "            self.model.eval()\n",
        "\n",
        "        mode = \"Train\" if is_train else \"Eval\"\n",
        "\n",
        "        data_iter = tqdm(\n",
        "            enumerate(dataloader),\n",
        "            desc=\"EP_%s:%d\" % (mode, epoch),\n",
        "            total=len(dataloader),\n",
        "            bar_format=\"{l_bar}{r_bar}\"\n",
        "        )\n",
        "\n",
        "        epoch_loss = 0.0\n",
        "        epoch_steps = 0\n",
        "        total_preds, total_corrects = 0, 0\n",
        "        all_word_preds = []\n",
        "        all_word_labels = []\n",
        "\n",
        "        for idx, batch in data_iter:\n",
        "            input_ids = batch[\"input_ids\"].to(self.device)\n",
        "            token_type_ids = batch[\"token_type_ids\"].to(self.device)\n",
        "            attn_mask = batch[\"attention_mask\"].to(self.device)\n",
        "            labels = batch[\"labels\"].to(self.device)\n",
        "            word_labels = batch[\"word_labels\"]\n",
        "            word_ids = batch[\"word_ids\"]\n",
        "\n",
        "            if is_train:\n",
        "                outs = self.model(\n",
        "                    input_ids=input_ids, token_type_ids=token_type_ids, attn_mask=attn_mask,\n",
        "                )\n",
        "                logits = outs.view(-1, outs.size(-1))\n",
        "                labels = labels.view(-1)\n",
        "                loss = self.loss_criterion(logits, labels)\n",
        "            else:\n",
        "                with torch.no_grad():\n",
        "                    outs = self.model(\n",
        "                        input_ids=input_ids, token_type_ids=token_type_ids, attn_mask=attn_mask,\n",
        "                    )\n",
        "                    logits = outs.view(-1, outs.size(-1))\n",
        "                    labels = labels.view(-1)\n",
        "                    loss = self.loss_criterion(logits, labels)\n",
        "\n",
        "            probs = F.softmax(outs, dim=-1)\n",
        "\n",
        "            for seq_idx in range(probs.size(0)):\n",
        "                word_pred = word_level_prediction(\n",
        "                    probs=probs[seq_idx, :],\n",
        "                    word_ids=word_ids[seq_idx],\n",
        "                    aggregation_strategy=aggregation_strategy\n",
        "                ).detach().cpu()\n",
        "                word_label = word_labels[seq_idx]\n",
        "\n",
        "                all_word_preds.extend(word_pred.tolist())\n",
        "                all_word_labels.extend(word_label)\n",
        "\n",
        "            if is_train:\n",
        "                self.train_state.n_steps += 1\n",
        "                loss.backward()\n",
        "                if self.train_state.n_steps % self.accumulation_steps == 0:\n",
        "                    self.optimizer.step()\n",
        "                    self.optimizer.zero_grad()\n",
        "                    self.train_state.n_updates += 1\n",
        "\n",
        "                lr = self.optimizer.param_groups[0][\"lr\"]\n",
        "                self.train_state.lr.append(lr)\n",
        "                self.train_state.train_loss[\"step\"].append(loss.item())\n",
        "                self.scheduler.step()\n",
        "\n",
        "            else:\n",
        "                self.train_state.val_loss[\"step\"].append(loss.item())\n",
        "\n",
        "            epoch_loss += loss.item()\n",
        "            epoch_steps += 1\n",
        "\n",
        "            if (idx + 1) % 100 == 0:\n",
        "                avg_loss = epoch_loss / epoch_steps\n",
        "\n",
        "                print(\n",
        "                    f\"Epoch {epoch} - Step {self.train_state.n_steps}, mode {mode}: avg_loss={avg_loss}\")\n",
        "\n",
        "        avg_loss = epoch_loss / epoch_steps\n",
        "        epoch_micro_acc = accuracy_score(all_word_labels, all_word_preds)\n",
        "        epoch_macro_precision = precision_score(all_word_labels, all_word_preds, average=\"macro\", zero_division=np.nan)\n",
        "        epoch_macro_recall = recall_score(all_word_labels, all_word_preds, average=\"macro\", zero_division=np.nan)\n",
        "\n",
        "        if is_train:\n",
        "            train_state.train_loss[\"epoch\"].append(avg_loss)\n",
        "        else:\n",
        "            train_state.val_loss[\"epoch\"].append(avg_loss)\n",
        "\n",
        "        print(\n",
        "            f\"Whole Epoch {epoch}, mode {mode}: avg_loss={avg_loss}, accuracy={epoch_micro_acc}, macro precision={epoch_macro_precision}, macro recall={epoch_macro_recall}\")\n",
        "\n",
        "    def train(\n",
        "        self,\n",
        "        training_args: Dict\n",
        "        ):\n",
        "        train_dataloader = self.data_manager.get_train_dataloader(batch_size=training_args[\"batch_size\"])\n",
        "        validation_dataloader = self.data_manager.get_validation_dataloader(batch_size=training_args[\"batch_size\"])\n",
        "\n",
        "        for epoch_no in range(training_args[\"n_epochs\"]):\n",
        "            self.run_epoch(\n",
        "                epoch=epoch_no,\n",
        "                dataloader=train_dataloader,\n",
        "                is_train=True\n",
        "            )\n",
        "            torch.cuda.empty_cache()\n",
        "            self.run_epoch(\n",
        "                epoch=epoch_no,\n",
        "                dataloader=validation_dataloader,\n",
        "                is_train=False\n",
        "            )\n",
        "\n",
        "    def test(\n",
        "        self,\n",
        "        batch_size: int = 32\n",
        "        ):\n",
        "        test_dataloader = self.data_manager.get_test_dataloader(batch_size=batch_size)\n",
        "        self.run_epoch(\n",
        "            epoch=0,\n",
        "            dataloader=test_dataloader,\n",
        "            is_train=False\n",
        "        )"
      ]
    },
    {
      "cell_type": "markdown",
      "source": [
        "# Finetune !!!"
      ],
      "metadata": {
        "id": "GS7p6t81VB67"
      }
    },
    {
      "cell_type": "markdown",
      "source": [
        "### Load Pretrain Backbone"
      ],
      "metadata": {
        "id": "sFuMVxPvVDsv"
      }
    },
    {
      "cell_type": "code",
      "execution_count": 92,
      "metadata": {
        "id": "0axbD6J5ikWM"
      },
      "outputs": [],
      "source": [
        "model_args = dict(\n",
        "    d_model=768,\n",
        "    n_layers=12,\n",
        "    n_heads=12,\n",
        "    n_groups=4,\n",
        "    dropout=0.1,\n",
        "    use_segment_embedding=True,\n",
        ") # BERT BASE\n",
        "\n",
        "optimizer_args = dict(\n",
        "    lr=3e-5,\n",
        "    betas=(0.9, 0.999),\n",
        "    weight_decay=0.01,\n",
        "    warmup=10000,\n",
        "    total_steps=100000,\n",
        "    accumulation_steps=1\n",
        ")\n",
        "\n",
        "training_args = dict(n_epochs=20, batch_size=32)"
      ]
    },
    {
      "cell_type": "code",
      "source": [
        "train_dataset = CoNLL2003Dataset(dataset[\"train\"].remove_columns(['id', 'pos_tags', 'chunk_tags']))\n",
        "val_dataset = CoNLL2003Dataset(dataset[\"validation\"].remove_columns(['id', 'pos_tags', 'chunk_tags']))\n",
        "test_dataset = CoNLL2003Dataset(dataset[\"test\"].remove_columns(['id', 'pos_tags', 'chunk_tags']))\n",
        "num_classes = len(train_dataset.id2classes.keys())\n",
        "\n",
        "data_manager = CoNLL2003DataManager(\n",
        "    train_dataset = train_dataset,\n",
        "    val_dataset = val_dataset,\n",
        "    test_dataset = test_dataset,\n",
        "    tokenizer = tokenizer\n",
        ")\n",
        "\n",
        "train_loader = data_manager.get_train_dataloader(batch_size=3)\n",
        "sample_batch = next(iter(train_loader))"
      ],
      "metadata": {
        "id": "IlGddxuUIOlc"
      },
      "execution_count": 98,
      "outputs": []
    },
    {
      "cell_type": "code",
      "execution_count": 99,
      "metadata": {
        "id": "lQ4BRMeFikWN"
      },
      "outputs": [],
      "source": [
        "# Load in backbone weights\n",
        "bert_backbone = BERTBackbone(**model_args)\n",
        "ckpt_dir = None\n",
        "if ckpt_dir:\n",
        "    bert_backbone.load_state_dict(torch.load(os.path.join(ckpt_dir, \"best_checkpoint.pt\")))\n",
        "\n",
        "model = BertForTokenClassification(\n",
        "    bert=bert_backbone,\n",
        "    num_classes=num_classes\n",
        "    )"
      ]
    },
    {
      "cell_type": "code",
      "source": [
        "bert_trainer = BERTFTTrainer(\n",
        "    model=model,\n",
        "    data_manager=data_manager,\n",
        "    optimizer_args=optimizer_args,\n",
        "    device=DEVICE,\n",
        ")"
      ],
      "metadata": {
        "colab": {
          "base_uri": "https://localhost:8080/"
        },
        "id": "0s4MCaQZGUTs",
        "outputId": "31d7a66f-fd35-47d6-d3c7-0e1874a60afa"
      },
      "execution_count": 116,
      "outputs": [
        {
          "output_type": "stream",
          "name": "stdout",
          "text": [
            "Total Parameters: 99055113\n"
          ]
        }
      ]
    },
    {
      "cell_type": "code",
      "source": [
        "bert_trainer.train(training_args)"
      ],
      "metadata": {
        "colab": {
          "base_uri": "https://localhost:8080/"
        },
        "id": "-V0-Oi_47S5U",
        "outputId": "5b422b3d-b18a-49d2-957e-f7c3e9839cb6"
      },
      "execution_count": null,
      "outputs": [
        {
          "output_type": "stream",
          "name": "stderr",
          "text": [
            "EP_Train:0:  23%|| 100/438 [00:34<01:53,  2.99it/s]"
          ]
        },
        {
          "output_type": "stream",
          "name": "stdout",
          "text": [
            "Epoch 0 - Step 100, mode Train: avg_loss=0.7303533762693405\n"
          ]
        },
        {
          "output_type": "stream",
          "name": "stderr",
          "text": [
            "EP_Train:0:  46%|| 200/438 [01:05<01:03,  3.74it/s]"
          ]
        },
        {
          "output_type": "stream",
          "name": "stdout",
          "text": [
            "Epoch 0 - Step 200, mode Train: avg_loss=0.7330129128694535\n"
          ]
        },
        {
          "output_type": "stream",
          "name": "stderr",
          "text": [
            "EP_Train:0:  68%|| 300/438 [01:36<00:42,  3.23it/s]"
          ]
        },
        {
          "output_type": "stream",
          "name": "stdout",
          "text": [
            "Epoch 0 - Step 300, mode Train: avg_loss=0.7299988355239232\n"
          ]
        },
        {
          "output_type": "stream",
          "name": "stderr",
          "text": [
            "EP_Train:0:  91%|| 400/438 [02:08<00:11,  3.31it/s]"
          ]
        },
        {
          "output_type": "stream",
          "name": "stdout",
          "text": [
            "Epoch 0 - Step 400, mode Train: avg_loss=0.7322510153800249\n"
          ]
        },
        {
          "output_type": "stream",
          "name": "stderr",
          "text": [
            "EP_Train:0: 100%|| 438/438 [02:20<00:00,  3.11it/s]\n"
          ]
        },
        {
          "output_type": "stream",
          "name": "stdout",
          "text": [
            "Whole Epoch 0, mode Train: avg_loss=0.7324057758943131, accuracy=0.832717540502113, macro precision=0.4183727893999801, macro recall=0.11474006655101067\n"
          ]
        },
        {
          "output_type": "stream",
          "name": "stderr",
          "text": [
            "EP_Eval:0: 100%|| 102/102 [00:11<00:00,  8.69it/s]"
          ]
        },
        {
          "output_type": "stream",
          "name": "stdout",
          "text": [
            "Epoch 0 - Step 438, mode Eval: avg_loss=0.788083046078682\n"
          ]
        },
        {
          "output_type": "stream",
          "name": "stderr",
          "text": [
            "\n"
          ]
        },
        {
          "output_type": "stream",
          "name": "stdout",
          "text": [
            "Whole Epoch 0, mode Eval: avg_loss=0.783482560340096, accuracy=0.8324247498150383, macro precision=0.6402719447981865, macro recall=0.11781555640963745\n"
          ]
        },
        {
          "output_type": "stream",
          "name": "stderr",
          "text": [
            "EP_Train:1:  23%|| 100/438 [00:32<01:48,  3.11it/s]"
          ]
        },
        {
          "output_type": "stream",
          "name": "stdout",
          "text": [
            "Epoch 1 - Step 538, mode Train: avg_loss=0.7194894766807556\n"
          ]
        },
        {
          "output_type": "stream",
          "name": "stderr",
          "text": [
            "EP_Train:1:  46%|| 200/438 [01:04<01:14,  3.18it/s]"
          ]
        },
        {
          "output_type": "stream",
          "name": "stdout",
          "text": [
            "Epoch 1 - Step 638, mode Train: avg_loss=0.7256212276220322\n"
          ]
        },
        {
          "output_type": "stream",
          "name": "stderr",
          "text": [
            "EP_Train:1:  68%|| 300/438 [01:35<00:42,  3.22it/s]"
          ]
        },
        {
          "output_type": "stream",
          "name": "stdout",
          "text": [
            "Epoch 1 - Step 738, mode Train: avg_loss=0.7338892636696498\n"
          ]
        },
        {
          "output_type": "stream",
          "name": "stderr",
          "text": [
            "EP_Train:1:  91%|| 400/438 [02:05<00:12,  3.10it/s]"
          ]
        },
        {
          "output_type": "stream",
          "name": "stdout",
          "text": [
            "Epoch 1 - Step 838, mode Train: avg_loss=0.72885621920228\n"
          ]
        },
        {
          "output_type": "stream",
          "name": "stderr",
          "text": [
            "EP_Train:1: 100%|| 438/438 [02:17<00:00,  3.18it/s]\n"
          ]
        },
        {
          "output_type": "stream",
          "name": "stdout",
          "text": [
            "Whole Epoch 1, mode Train: avg_loss=0.7276347859265053, accuracy=0.8327304226281, macro precision=0.3568109511871917, macro recall=0.11608648563103914\n"
          ]
        },
        {
          "output_type": "stream",
          "name": "stderr",
          "text": [
            "EP_Eval:1: 100%|| 102/102 [00:11<00:00,  8.71it/s]"
          ]
        },
        {
          "output_type": "stream",
          "name": "stdout",
          "text": [
            "Epoch 1 - Step 876, mode Eval: avg_loss=0.7663249835371971\n"
          ]
        },
        {
          "output_type": "stream",
          "name": "stderr",
          "text": [
            "\n"
          ]
        },
        {
          "output_type": "stream",
          "name": "stdout",
          "text": [
            "Whole Epoch 1, mode Eval: avg_loss=0.7619962873412114, accuracy=0.8324052801682178, macro precision=0.646473601735652, macro recall=0.1237173856775739\n"
          ]
        },
        {
          "output_type": "stream",
          "name": "stderr",
          "text": [
            "EP_Train:2:  23%|| 100/438 [00:30<01:41,  3.33it/s]"
          ]
        },
        {
          "output_type": "stream",
          "name": "stdout",
          "text": [
            "Epoch 2 - Step 976, mode Train: avg_loss=0.7115887609124184\n"
          ]
        },
        {
          "output_type": "stream",
          "name": "stderr",
          "text": [
            "EP_Train:2:  46%|| 200/438 [01:01<01:13,  3.26it/s]"
          ]
        },
        {
          "output_type": "stream",
          "name": "stdout",
          "text": [
            "Epoch 2 - Step 1076, mode Train: avg_loss=0.7177570323646069\n"
          ]
        },
        {
          "output_type": "stream",
          "name": "stderr",
          "text": [
            "EP_Train:2:  68%|| 300/438 [01:33<00:51,  2.69it/s]"
          ]
        },
        {
          "output_type": "stream",
          "name": "stdout",
          "text": [
            "Epoch 2 - Step 1176, mode Train: avg_loss=0.7175290818015735\n"
          ]
        },
        {
          "output_type": "stream",
          "name": "stderr",
          "text": [
            "EP_Train:2:  91%|| 400/438 [02:04<00:11,  3.28it/s]"
          ]
        },
        {
          "output_type": "stream",
          "name": "stdout",
          "text": [
            "Epoch 2 - Step 1276, mode Train: avg_loss=0.7153616753965616\n"
          ]
        },
        {
          "output_type": "stream",
          "name": "stderr",
          "text": [
            "EP_Train:2: 100%|| 438/438 [02:16<00:00,  3.21it/s]\n"
          ]
        },
        {
          "output_type": "stream",
          "name": "stdout",
          "text": [
            "Whole Epoch 2, mode Train: avg_loss=0.7154320800277196, accuracy=0.8326799636014854, macro precision=0.3380137911181363, macro recall=0.11694726912289743\n"
          ]
        },
        {
          "output_type": "stream",
          "name": "stderr",
          "text": [
            "EP_Eval:2:  99%|| 101/102 [00:10<00:00,  8.45it/s]"
          ]
        },
        {
          "output_type": "stream",
          "name": "stdout",
          "text": [
            "Epoch 2 - Step 1314, mode Eval: avg_loss=0.7474773308634758\n"
          ]
        },
        {
          "output_type": "stream",
          "name": "stderr",
          "text": [
            "\rEP_Eval:2: 100%|| 102/102 [00:10<00:00,  9.67it/s]\n"
          ]
        },
        {
          "output_type": "stream",
          "name": "stdout",
          "text": [
            "Whole Epoch 2, mode Eval: avg_loss=0.7434982499655556, accuracy=0.8326778552237062, macro precision=0.5783087227292311, macro recall=0.12129498946475427\n"
          ]
        },
        {
          "output_type": "stream",
          "name": "stderr",
          "text": [
            "EP_Train:3:  23%|| 100/438 [00:31<01:56,  2.91it/s]"
          ]
        },
        {
          "output_type": "stream",
          "name": "stdout",
          "text": [
            "Epoch 3 - Step 1414, mode Train: avg_loss=0.7043641597032547\n"
          ]
        },
        {
          "output_type": "stream",
          "name": "stderr",
          "text": [
            "EP_Train:3:  46%|| 200/438 [01:02<01:10,  3.37it/s]"
          ]
        },
        {
          "output_type": "stream",
          "name": "stdout",
          "text": [
            "Epoch 3 - Step 1514, mode Train: avg_loss=0.7062022814154625\n"
          ]
        },
        {
          "output_type": "stream",
          "name": "stderr",
          "text": [
            "EP_Train:3:  68%|| 300/438 [01:34<00:39,  3.48it/s]"
          ]
        },
        {
          "output_type": "stream",
          "name": "stdout",
          "text": [
            "Epoch 3 - Step 1614, mode Train: avg_loss=0.7039688166975975\n"
          ]
        },
        {
          "output_type": "stream",
          "name": "stderr",
          "text": [
            "EP_Train:3:  91%|| 400/438 [02:05<00:11,  3.39it/s]"
          ]
        },
        {
          "output_type": "stream",
          "name": "stdout",
          "text": [
            "Epoch 3 - Step 1714, mode Train: avg_loss=0.6986699825525284\n"
          ]
        },
        {
          "output_type": "stream",
          "name": "stderr",
          "text": [
            "EP_Train:3: 100%|| 438/438 [02:17<00:00,  3.18it/s]\n"
          ]
        },
        {
          "output_type": "stream",
          "name": "stdout",
          "text": [
            "Whole Epoch 3, mode Train: avg_loss=0.6993759469082367, accuracy=0.832813391855453, macro precision=0.43253743846809584, macro recall=0.12054473313620291\n"
          ]
        },
        {
          "output_type": "stream",
          "name": "stderr",
          "text": [
            "EP_Eval:3:  99%|| 101/102 [00:11<00:00,  9.19it/s]"
          ]
        },
        {
          "output_type": "stream",
          "name": "stdout",
          "text": [
            "Epoch 3 - Step 1752, mode Eval: avg_loss=0.7424794596433639\n"
          ]
        },
        {
          "output_type": "stream",
          "name": "stderr",
          "text": [
            "\rEP_Eval:3: 100%|| 102/102 [00:11<00:00,  8.87it/s]\n"
          ]
        },
        {
          "output_type": "stream",
          "name": "stdout",
          "text": [
            "Whole Epoch 3, mode Eval: avg_loss=0.7384240750004264, accuracy=0.8322884622872941, macro precision=0.5620256751460159, macro recall=0.12627929092968643\n"
          ]
        },
        {
          "output_type": "stream",
          "name": "stderr",
          "text": [
            "EP_Train:4:  23%|| 100/438 [00:31<01:46,  3.16it/s]"
          ]
        },
        {
          "output_type": "stream",
          "name": "stdout",
          "text": [
            "Epoch 4 - Step 1852, mode Train: avg_loss=0.6788500699400902\n"
          ]
        },
        {
          "output_type": "stream",
          "name": "stderr",
          "text": [
            "EP_Train:4:  46%|| 200/438 [01:02<01:07,  3.52it/s]"
          ]
        },
        {
          "output_type": "stream",
          "name": "stdout",
          "text": [
            "Epoch 4 - Step 1952, mode Train: avg_loss=0.6815797655284405\n"
          ]
        },
        {
          "output_type": "stream",
          "name": "stderr",
          "text": [
            "EP_Train:4:  68%|| 300/438 [01:33<00:46,  2.98it/s]"
          ]
        },
        {
          "output_type": "stream",
          "name": "stdout",
          "text": [
            "Epoch 4 - Step 2052, mode Train: avg_loss=0.6819700487454732\n"
          ]
        },
        {
          "output_type": "stream",
          "name": "stderr",
          "text": [
            "EP_Train:4:  91%|| 400/438 [02:05<00:11,  3.45it/s]"
          ]
        },
        {
          "output_type": "stream",
          "name": "stdout",
          "text": [
            "Epoch 4 - Step 2152, mode Train: avg_loss=0.6816404520720244\n"
          ]
        },
        {
          "output_type": "stream",
          "name": "stderr",
          "text": [
            "EP_Train:4: 100%|| 438/438 [02:16<00:00,  3.20it/s]\n"
          ]
        },
        {
          "output_type": "stream",
          "name": "stdout",
          "text": [
            "Whole Epoch 4, mode Train: avg_loss=0.6800295093424245, accuracy=0.8327291864428454, macro precision=0.3760045229775863, macro recall=0.12329913581176924\n"
          ]
        },
        {
          "output_type": "stream",
          "name": "stderr",
          "text": [
            "EP_Eval:4:  99%|| 101/102 [00:11<00:00,  9.20it/s]"
          ]
        },
        {
          "output_type": "stream",
          "name": "stdout",
          "text": [
            "Epoch 4 - Step 2190, mode Eval: avg_loss=0.7271996891498566\n"
          ]
        },
        {
          "output_type": "stream",
          "name": "stderr",
          "text": [
            "\rEP_Eval:4: 100%|| 102/102 [00:11<00:00,  8.92it/s]\n"
          ]
        },
        {
          "output_type": "stream",
          "name": "stdout",
          "text": [
            "Whole Epoch 4, mode Eval: avg_loss=0.7232310114537969, accuracy=0.8330283088664772, macro precision=0.5395298341996655, macro recall=0.12426831185601632\n"
          ]
        },
        {
          "output_type": "stream",
          "name": "stderr",
          "text": [
            "EP_Train:5:  23%|| 100/438 [00:31<01:53,  2.98it/s]"
          ]
        },
        {
          "output_type": "stream",
          "name": "stdout",
          "text": [
            "Epoch 5 - Step 2290, mode Train: avg_loss=0.6667281699180603\n"
          ]
        },
        {
          "output_type": "stream",
          "name": "stderr",
          "text": [
            "EP_Train:5:  46%|| 200/438 [01:02<01:08,  3.49it/s]"
          ]
        },
        {
          "output_type": "stream",
          "name": "stdout",
          "text": [
            "Epoch 5 - Step 2390, mode Train: avg_loss=0.6662799876928329\n"
          ]
        },
        {
          "output_type": "stream",
          "name": "stderr",
          "text": [
            "EP_Train:5:  68%|| 300/438 [01:33<00:43,  3.19it/s]"
          ]
        },
        {
          "output_type": "stream",
          "name": "stdout",
          "text": [
            "Epoch 5 - Step 2490, mode Train: avg_loss=0.6632698959112168\n"
          ]
        },
        {
          "output_type": "stream",
          "name": "stderr",
          "text": [
            "EP_Train:5:  91%|| 400/438 [02:05<00:12,  3.07it/s]"
          ]
        },
        {
          "output_type": "stream",
          "name": "stdout",
          "text": [
            "Epoch 5 - Step 2590, mode Train: avg_loss=0.6649074966460466\n"
          ]
        },
        {
          "output_type": "stream",
          "name": "stderr",
          "text": [
            "EP_Train:5: 100%|| 438/438 [02:17<00:00,  3.19it/s]\n"
          ]
        },
        {
          "output_type": "stream",
          "name": "stdout",
          "text": [
            "Whole Epoch 5, mode Train: avg_loss=0.6640648162120009, accuracy=0.8328379508882436, macro precision=0.3803470732948977, macro recall=0.12692881686378146\n"
          ]
        },
        {
          "output_type": "stream",
          "name": "stderr",
          "text": [
            "EP_Eval:5: 100%|| 102/102 [00:11<00:00,  9.19it/s]"
          ]
        },
        {
          "output_type": "stream",
          "name": "stdout",
          "text": [
            "Epoch 5 - Step 2628, mode Eval: avg_loss=0.7049059212207794\n"
          ]
        },
        {
          "output_type": "stream",
          "name": "stderr",
          "text": [
            "\n"
          ]
        },
        {
          "output_type": "stream",
          "name": "stdout",
          "text": [
            "Whole Epoch 5, mode Eval: avg_loss=0.7012133741495656, accuracy=0.8331256571005802, macro precision=0.6072642968879968, macro recall=0.12878731501855\n"
          ]
        },
        {
          "output_type": "stream",
          "name": "stderr",
          "text": [
            "EP_Train:6:  23%|| 100/438 [00:32<01:46,  3.17it/s]"
          ]
        },
        {
          "output_type": "stream",
          "name": "stdout",
          "text": [
            "Epoch 6 - Step 2728, mode Train: avg_loss=0.6618957799673081\n"
          ]
        },
        {
          "output_type": "stream",
          "name": "stderr",
          "text": [
            "EP_Train:6:  46%|| 200/438 [01:03<01:19,  2.99it/s]"
          ]
        },
        {
          "output_type": "stream",
          "name": "stdout",
          "text": [
            "Epoch 6 - Step 2828, mode Train: avg_loss=0.6478245574235916\n"
          ]
        },
        {
          "output_type": "stream",
          "name": "stderr",
          "text": [
            "EP_Train:6:  68%|| 300/438 [01:33<00:43,  3.20it/s]"
          ]
        },
        {
          "output_type": "stream",
          "name": "stdout",
          "text": [
            "Epoch 6 - Step 2928, mode Train: avg_loss=0.6467839127779007\n"
          ]
        },
        {
          "output_type": "stream",
          "name": "stderr",
          "text": [
            "EP_Train:6:  91%|| 400/438 [02:05<00:11,  3.42it/s]"
          ]
        },
        {
          "output_type": "stream",
          "name": "stdout",
          "text": [
            "Epoch 6 - Step 3028, mode Train: avg_loss=0.6470156691968441\n"
          ]
        },
        {
          "output_type": "stream",
          "name": "stderr",
          "text": [
            "EP_Train:6: 100%|| 438/438 [02:16<00:00,  3.21it/s]\n"
          ]
        },
        {
          "output_type": "stream",
          "name": "stdout",
          "text": [
            "Whole Epoch 6, mode Train: avg_loss=0.6495273756246044, accuracy=0.8329889502218811, macro precision=0.4175040435286658, macro recall=0.1304983541223243\n"
          ]
        },
        {
          "output_type": "stream",
          "name": "stderr",
          "text": [
            "EP_Eval:6:  99%|| 101/102 [00:10<00:00,  8.07it/s]"
          ]
        },
        {
          "output_type": "stream",
          "name": "stdout",
          "text": [
            "Epoch 6 - Step 3066, mode Eval: avg_loss=0.6942897269129753\n"
          ]
        },
        {
          "output_type": "stream",
          "name": "stderr",
          "text": [
            "\rEP_Eval:6: 100%|| 102/102 [00:10<00:00,  9.40it/s]\n"
          ]
        },
        {
          "output_type": "stream",
          "name": "stdout",
          "text": [
            "Whole Epoch 6, mode Eval: avg_loss=0.6905674575006261, accuracy=0.8330088392196565, macro precision=0.5191542318078728, macro recall=0.12130371336167729\n"
          ]
        },
        {
          "output_type": "stream",
          "name": "stderr",
          "text": [
            "EP_Train:7:  23%|| 100/438 [00:31<01:43,  3.27it/s]"
          ]
        },
        {
          "output_type": "stream",
          "name": "stdout",
          "text": [
            "Epoch 7 - Step 3166, mode Train: avg_loss=0.6363174089789391\n"
          ]
        },
        {
          "output_type": "stream",
          "name": "stderr",
          "text": [
            "EP_Train:7:  46%|| 200/438 [01:02<01:16,  3.10it/s]"
          ]
        },
        {
          "output_type": "stream",
          "name": "stdout",
          "text": [
            "Epoch 7 - Step 3266, mode Train: avg_loss=0.638593435138464\n"
          ]
        },
        {
          "output_type": "stream",
          "name": "stderr",
          "text": [
            "EP_Train:7:  68%|| 300/438 [01:33<00:47,  2.89it/s]"
          ]
        },
        {
          "output_type": "stream",
          "name": "stdout",
          "text": [
            "Epoch 7 - Step 3366, mode Train: avg_loss=0.6359055504202843\n"
          ]
        },
        {
          "output_type": "stream",
          "name": "stderr",
          "text": [
            "EP_Train:7:  91%|| 400/438 [02:04<00:11,  3.37it/s]"
          ]
        },
        {
          "output_type": "stream",
          "name": "stdout",
          "text": [
            "Epoch 7 - Step 3466, mode Train: avg_loss=0.6336079628020524\n"
          ]
        },
        {
          "output_type": "stream",
          "name": "stderr",
          "text": [
            "EP_Train:7: 100%|| 438/438 [02:16<00:00,  3.22it/s]\n"
          ]
        },
        {
          "output_type": "stream",
          "name": "stdout",
          "text": [
            "Whole Epoch 7, mode Train: avg_loss=0.6330826381161877, accuracy=0.8332694010032458, macro precision=0.4343810711916842, macro recall=0.13354687539383436\n"
          ]
        },
        {
          "output_type": "stream",
          "name": "stderr",
          "text": [
            "EP_Eval:7: 100%|| 102/102 [00:12<00:00,  8.12it/s]"
          ]
        },
        {
          "output_type": "stream",
          "name": "stdout",
          "text": [
            "Epoch 7 - Step 3504, mode Eval: avg_loss=0.6915683579444886\n"
          ]
        },
        {
          "output_type": "stream",
          "name": "stderr",
          "text": [
            "\n"
          ]
        },
        {
          "output_type": "stream",
          "name": "stdout",
          "text": [
            "Whole Epoch 7, mode Eval: avg_loss=0.6880335559447607, accuracy=0.8328141427514505, macro precision=0.4993190809045191, macro recall=0.1399463339400096\n"
          ]
        },
        {
          "output_type": "stream",
          "name": "stderr",
          "text": [
            "EP_Train:8:  23%|| 100/438 [00:31<01:39,  3.40it/s]"
          ]
        },
        {
          "output_type": "stream",
          "name": "stdout",
          "text": [
            "Epoch 8 - Step 3604, mode Train: avg_loss=0.6275615635514259\n"
          ]
        },
        {
          "output_type": "stream",
          "name": "stderr",
          "text": [
            "EP_Train:8:  46%|| 200/438 [01:02<01:05,  3.62it/s]"
          ]
        },
        {
          "output_type": "stream",
          "name": "stdout",
          "text": [
            "Epoch 8 - Step 3704, mode Train: avg_loss=0.6225086092948914\n"
          ]
        },
        {
          "output_type": "stream",
          "name": "stderr",
          "text": [
            "EP_Train:8:  68%|| 300/438 [01:33<00:42,  3.28it/s]"
          ]
        },
        {
          "output_type": "stream",
          "name": "stdout",
          "text": [
            "Epoch 8 - Step 3804, mode Train: avg_loss=0.622448493440946\n"
          ]
        },
        {
          "output_type": "stream",
          "name": "stderr",
          "text": [
            "EP_Train:8:  91%|| 400/438 [02:05<00:12,  2.96it/s]"
          ]
        },
        {
          "output_type": "stream",
          "name": "stdout",
          "text": [
            "Epoch 8 - Step 3904, mode Train: avg_loss=0.618564380928874\n"
          ]
        },
        {
          "output_type": "stream",
          "name": "stderr",
          "text": [
            "EP_Train:8: 100%|| 438/438 [02:16<00:00,  3.20it/s]\n"
          ]
        },
        {
          "output_type": "stream",
          "name": "stdout",
          "text": [
            "Whole Epoch 8, mode Train: avg_loss=0.618620239096145, accuracy=0.8328612733817194, macro precision=0.3882313612999112, macro recall=0.13404642180057036\n"
          ]
        },
        {
          "output_type": "stream",
          "name": "stderr",
          "text": [
            "EP_Eval:8: 100%|| 102/102 [00:11<00:00,  9.05it/s]"
          ]
        },
        {
          "output_type": "stream",
          "name": "stdout",
          "text": [
            "Epoch 8 - Step 3942, mode Eval: avg_loss=0.6739881280064582\n"
          ]
        },
        {
          "output_type": "stream",
          "name": "stderr",
          "text": [
            "\n"
          ]
        },
        {
          "output_type": "stream",
          "name": "stdout",
          "text": [
            "Whole Epoch 8, mode Eval: avg_loss=0.6706786909524132, accuracy=0.832989369572836, macro precision=0.4441034911381944, macro recall=0.13056730561558455\n"
          ]
        },
        {
          "output_type": "stream",
          "name": "stderr",
          "text": [
            "EP_Train:9:  23%|| 100/438 [00:31<01:40,  3.37it/s]"
          ]
        },
        {
          "output_type": "stream",
          "name": "stdout",
          "text": [
            "Epoch 9 - Step 4042, mode Train: avg_loss=0.6152951392531395\n"
          ]
        },
        {
          "output_type": "stream",
          "name": "stderr",
          "text": [
            "EP_Train:9:  46%|| 200/438 [01:02<01:15,  3.17it/s]"
          ]
        },
        {
          "output_type": "stream",
          "name": "stdout",
          "text": [
            "Epoch 9 - Step 4142, mode Train: avg_loss=0.60964819714427\n"
          ]
        },
        {
          "output_type": "stream",
          "name": "stderr",
          "text": [
            "EP_Train:9:  68%|| 300/438 [01:33<00:46,  2.95it/s]"
          ]
        },
        {
          "output_type": "stream",
          "name": "stdout",
          "text": [
            "Epoch 9 - Step 4242, mode Train: avg_loss=0.6106923664609591\n"
          ]
        },
        {
          "output_type": "stream",
          "name": "stderr",
          "text": [
            "EP_Train:9:  91%|| 400/438 [02:04<00:12,  3.01it/s]"
          ]
        },
        {
          "output_type": "stream",
          "name": "stdout",
          "text": [
            "Epoch 9 - Step 4342, mode Train: avg_loss=0.6111584222316742\n"
          ]
        },
        {
          "output_type": "stream",
          "name": "stderr",
          "text": [
            "EP_Train:9: 100%|| 438/438 [02:16<00:00,  3.21it/s]\n"
          ]
        },
        {
          "output_type": "stream",
          "name": "stdout",
          "text": [
            "Whole Epoch 9, mode Train: avg_loss=0.6079617393071248, accuracy=0.8331193648826125, macro precision=0.4184650120118425, macro recall=0.13570177803074537\n"
          ]
        },
        {
          "output_type": "stream",
          "name": "stderr",
          "text": [
            "EP_Eval:9:  99%|| 101/102 [00:10<00:00,  7.91it/s]"
          ]
        },
        {
          "output_type": "stream",
          "name": "stdout",
          "text": [
            "Epoch 9 - Step 4380, mode Eval: avg_loss=0.6684470245242119\n"
          ]
        },
        {
          "output_type": "stream",
          "name": "stderr",
          "text": [
            "\rEP_Eval:9: 100%|| 102/102 [00:10<00:00,  9.48it/s]\n"
          ]
        },
        {
          "output_type": "stream",
          "name": "stdout",
          "text": [
            "Whole Epoch 9, mode Eval: avg_loss=0.6651803322282492, accuracy=0.8331061874537596, macro precision=0.5186842518551853, macro recall=0.13141734540569516\n"
          ]
        },
        {
          "output_type": "stream",
          "name": "stderr",
          "text": [
            "EP_Train:10:  23%|| 100/438 [00:31<01:51,  3.04it/s]"
          ]
        },
        {
          "output_type": "stream",
          "name": "stdout",
          "text": [
            "Epoch 10 - Step 4480, mode Train: avg_loss=0.5891771438717842\n"
          ]
        },
        {
          "output_type": "stream",
          "name": "stderr",
          "text": [
            "EP_Train:10:  46%|| 200/438 [01:02<01:13,  3.22it/s]"
          ]
        },
        {
          "output_type": "stream",
          "name": "stdout",
          "text": [
            "Epoch 10 - Step 4580, mode Train: avg_loss=0.5968253390491008\n"
          ]
        },
        {
          "output_type": "stream",
          "name": "stderr",
          "text": [
            "EP_Train:10:  68%|| 300/438 [01:33<00:42,  3.27it/s]"
          ]
        },
        {
          "output_type": "stream",
          "name": "stdout",
          "text": [
            "Epoch 10 - Step 4680, mode Train: avg_loss=0.6015199932456017\n"
          ]
        },
        {
          "output_type": "stream",
          "name": "stderr",
          "text": [
            "EP_Train:10:  91%|| 400/438 [02:04<00:11,  3.41it/s]"
          ]
        },
        {
          "output_type": "stream",
          "name": "stdout",
          "text": [
            "Epoch 10 - Step 4780, mode Train: avg_loss=0.5988377591967583\n"
          ]
        },
        {
          "output_type": "stream",
          "name": "stderr",
          "text": [
            "EP_Train:10: 100%|| 438/438 [02:16<00:00,  3.22it/s]\n"
          ]
        },
        {
          "output_type": "stream",
          "name": "stdout",
          "text": [
            "Whole Epoch 10, mode Train: avg_loss=0.5974449863716892, accuracy=0.8334719017656406, macro precision=0.4337720996766834, macro recall=0.13666947969678012\n"
          ]
        },
        {
          "output_type": "stream",
          "name": "stderr",
          "text": [
            "EP_Eval:10:  99%|| 101/102 [00:11<00:00,  8.87it/s]"
          ]
        },
        {
          "output_type": "stream",
          "name": "stdout",
          "text": [
            "Epoch 10 - Step 4818, mode Eval: avg_loss=0.6589709433913231\n"
          ]
        },
        {
          "output_type": "stream",
          "name": "stderr",
          "text": [
            "\rEP_Eval:10: 100%|| 102/102 [00:11<00:00,  8.86it/s]\n"
          ]
        },
        {
          "output_type": "stream",
          "name": "stdout",
          "text": [
            "Whole Epoch 10, mode Eval: avg_loss=0.6557231650632971, accuracy=0.8331645963942214, macro precision=0.49596012128570904, macro recall=0.14810099737962776\n"
          ]
        },
        {
          "output_type": "stream",
          "name": "stderr",
          "text": [
            "EP_Train:11:  23%|| 100/438 [00:32<01:43,  3.27it/s]"
          ]
        },
        {
          "output_type": "stream",
          "name": "stdout",
          "text": [
            "Epoch 11 - Step 4918, mode Train: avg_loss=0.5804343569278717\n"
          ]
        },
        {
          "output_type": "stream",
          "name": "stderr",
          "text": [
            "EP_Train:11:  46%|| 200/438 [01:04<01:16,  3.09it/s]"
          ]
        },
        {
          "output_type": "stream",
          "name": "stdout",
          "text": [
            "Epoch 11 - Step 5018, mode Train: avg_loss=0.5831435942649841\n"
          ]
        },
        {
          "output_type": "stream",
          "name": "stderr",
          "text": [
            "EP_Train:11:  63%|| 277/438 [01:27<00:46,  3.44it/s]"
          ]
        }
      ]
    },
    {
      "cell_type": "code",
      "source": [
        "output_dir = os.path.join(\n",
        "    MAIN_DIR, \"artifacts\", \"checkpoints\"\n",
        ")\n",
        "os.makedirs(output_dir, exist_ok=True)\n",
        "torch.save(model.state_dict(), os.path.join(output_dir, \"ft_ner_checkpoint.pt\"))"
      ],
      "metadata": {
        "id": "hDgI6ImHf4j3"
      },
      "execution_count": 15,
      "outputs": []
    }
  ],
  "metadata": {
    "colab": {
      "provenance": [],
      "gpuType": "T4"
    },
    "kernelspec": {
      "display_name": "Python 3",
      "name": "python3"
    },
    "language_info": {
      "name": "python"
    },
    "widgets": {
      "application/vnd.jupyter.widget-state+json": {
        "99df9e926be04130a4c1242955b82fed": {
          "model_module": "@jupyter-widgets/controls",
          "model_name": "HBoxModel",
          "model_module_version": "1.5.0",
          "state": {
            "_dom_classes": [],
            "_model_module": "@jupyter-widgets/controls",
            "_model_module_version": "1.5.0",
            "_model_name": "HBoxModel",
            "_view_count": null,
            "_view_module": "@jupyter-widgets/controls",
            "_view_module_version": "1.5.0",
            "_view_name": "HBoxView",
            "box_style": "",
            "children": [
              "IPY_MODEL_f45c1488672148c7b35b2816e2c3590f",
              "IPY_MODEL_65887346d4d14fc9be65065df438d35d",
              "IPY_MODEL_a4e48b40f5da4eb6800fa9c9fec7eb78"
            ],
            "layout": "IPY_MODEL_741c0c890efa49a5ab12227467064f38"
          }
        },
        "f45c1488672148c7b35b2816e2c3590f": {
          "model_module": "@jupyter-widgets/controls",
          "model_name": "HTMLModel",
          "model_module_version": "1.5.0",
          "state": {
            "_dom_classes": [],
            "_model_module": "@jupyter-widgets/controls",
            "_model_module_version": "1.5.0",
            "_model_name": "HTMLModel",
            "_view_count": null,
            "_view_module": "@jupyter-widgets/controls",
            "_view_module_version": "1.5.0",
            "_view_name": "HTMLView",
            "description": "",
            "description_tooltip": null,
            "layout": "IPY_MODEL_27f6c4a7d63144c29d130c63c45913dd",
            "placeholder": "​",
            "style": "IPY_MODEL_cbc5da80d7a44096b50d7c676a7e5228",
            "value": "tokenizer_config.json: 100%"
          }
        },
        "65887346d4d14fc9be65065df438d35d": {
          "model_module": "@jupyter-widgets/controls",
          "model_name": "FloatProgressModel",
          "model_module_version": "1.5.0",
          "state": {
            "_dom_classes": [],
            "_model_module": "@jupyter-widgets/controls",
            "_model_module_version": "1.5.0",
            "_model_name": "FloatProgressModel",
            "_view_count": null,
            "_view_module": "@jupyter-widgets/controls",
            "_view_module_version": "1.5.0",
            "_view_name": "ProgressView",
            "bar_style": "success",
            "description": "",
            "description_tooltip": null,
            "layout": "IPY_MODEL_ed86b085a3784ff6ae67e1eb1c5ac45b",
            "max": 49,
            "min": 0,
            "orientation": "horizontal",
            "style": "IPY_MODEL_af926cbc924d44bbad6147cde7e476eb",
            "value": 49
          }
        },
        "a4e48b40f5da4eb6800fa9c9fec7eb78": {
          "model_module": "@jupyter-widgets/controls",
          "model_name": "HTMLModel",
          "model_module_version": "1.5.0",
          "state": {
            "_dom_classes": [],
            "_model_module": "@jupyter-widgets/controls",
            "_model_module_version": "1.5.0",
            "_model_name": "HTMLModel",
            "_view_count": null,
            "_view_module": "@jupyter-widgets/controls",
            "_view_module_version": "1.5.0",
            "_view_name": "HTMLView",
            "description": "",
            "description_tooltip": null,
            "layout": "IPY_MODEL_5999d3d3354e472cb56af1dcef11c669",
            "placeholder": "​",
            "style": "IPY_MODEL_a4930ce97dbd4114b038efc195cbc5f2",
            "value": " 49.0/49.0 [00:00&lt;00:00, 1.92kB/s]"
          }
        },
        "741c0c890efa49a5ab12227467064f38": {
          "model_module": "@jupyter-widgets/base",
          "model_name": "LayoutModel",
          "model_module_version": "1.2.0",
          "state": {
            "_model_module": "@jupyter-widgets/base",
            "_model_module_version": "1.2.0",
            "_model_name": "LayoutModel",
            "_view_count": null,
            "_view_module": "@jupyter-widgets/base",
            "_view_module_version": "1.2.0",
            "_view_name": "LayoutView",
            "align_content": null,
            "align_items": null,
            "align_self": null,
            "border": null,
            "bottom": null,
            "display": null,
            "flex": null,
            "flex_flow": null,
            "grid_area": null,
            "grid_auto_columns": null,
            "grid_auto_flow": null,
            "grid_auto_rows": null,
            "grid_column": null,
            "grid_gap": null,
            "grid_row": null,
            "grid_template_areas": null,
            "grid_template_columns": null,
            "grid_template_rows": null,
            "height": null,
            "justify_content": null,
            "justify_items": null,
            "left": null,
            "margin": null,
            "max_height": null,
            "max_width": null,
            "min_height": null,
            "min_width": null,
            "object_fit": null,
            "object_position": null,
            "order": null,
            "overflow": null,
            "overflow_x": null,
            "overflow_y": null,
            "padding": null,
            "right": null,
            "top": null,
            "visibility": null,
            "width": null
          }
        },
        "27f6c4a7d63144c29d130c63c45913dd": {
          "model_module": "@jupyter-widgets/base",
          "model_name": "LayoutModel",
          "model_module_version": "1.2.0",
          "state": {
            "_model_module": "@jupyter-widgets/base",
            "_model_module_version": "1.2.0",
            "_model_name": "LayoutModel",
            "_view_count": null,
            "_view_module": "@jupyter-widgets/base",
            "_view_module_version": "1.2.0",
            "_view_name": "LayoutView",
            "align_content": null,
            "align_items": null,
            "align_self": null,
            "border": null,
            "bottom": null,
            "display": null,
            "flex": null,
            "flex_flow": null,
            "grid_area": null,
            "grid_auto_columns": null,
            "grid_auto_flow": null,
            "grid_auto_rows": null,
            "grid_column": null,
            "grid_gap": null,
            "grid_row": null,
            "grid_template_areas": null,
            "grid_template_columns": null,
            "grid_template_rows": null,
            "height": null,
            "justify_content": null,
            "justify_items": null,
            "left": null,
            "margin": null,
            "max_height": null,
            "max_width": null,
            "min_height": null,
            "min_width": null,
            "object_fit": null,
            "object_position": null,
            "order": null,
            "overflow": null,
            "overflow_x": null,
            "overflow_y": null,
            "padding": null,
            "right": null,
            "top": null,
            "visibility": null,
            "width": null
          }
        },
        "cbc5da80d7a44096b50d7c676a7e5228": {
          "model_module": "@jupyter-widgets/controls",
          "model_name": "DescriptionStyleModel",
          "model_module_version": "1.5.0",
          "state": {
            "_model_module": "@jupyter-widgets/controls",
            "_model_module_version": "1.5.0",
            "_model_name": "DescriptionStyleModel",
            "_view_count": null,
            "_view_module": "@jupyter-widgets/base",
            "_view_module_version": "1.2.0",
            "_view_name": "StyleView",
            "description_width": ""
          }
        },
        "ed86b085a3784ff6ae67e1eb1c5ac45b": {
          "model_module": "@jupyter-widgets/base",
          "model_name": "LayoutModel",
          "model_module_version": "1.2.0",
          "state": {
            "_model_module": "@jupyter-widgets/base",
            "_model_module_version": "1.2.0",
            "_model_name": "LayoutModel",
            "_view_count": null,
            "_view_module": "@jupyter-widgets/base",
            "_view_module_version": "1.2.0",
            "_view_name": "LayoutView",
            "align_content": null,
            "align_items": null,
            "align_self": null,
            "border": null,
            "bottom": null,
            "display": null,
            "flex": null,
            "flex_flow": null,
            "grid_area": null,
            "grid_auto_columns": null,
            "grid_auto_flow": null,
            "grid_auto_rows": null,
            "grid_column": null,
            "grid_gap": null,
            "grid_row": null,
            "grid_template_areas": null,
            "grid_template_columns": null,
            "grid_template_rows": null,
            "height": null,
            "justify_content": null,
            "justify_items": null,
            "left": null,
            "margin": null,
            "max_height": null,
            "max_width": null,
            "min_height": null,
            "min_width": null,
            "object_fit": null,
            "object_position": null,
            "order": null,
            "overflow": null,
            "overflow_x": null,
            "overflow_y": null,
            "padding": null,
            "right": null,
            "top": null,
            "visibility": null,
            "width": null
          }
        },
        "af926cbc924d44bbad6147cde7e476eb": {
          "model_module": "@jupyter-widgets/controls",
          "model_name": "ProgressStyleModel",
          "model_module_version": "1.5.0",
          "state": {
            "_model_module": "@jupyter-widgets/controls",
            "_model_module_version": "1.5.0",
            "_model_name": "ProgressStyleModel",
            "_view_count": null,
            "_view_module": "@jupyter-widgets/base",
            "_view_module_version": "1.2.0",
            "_view_name": "StyleView",
            "bar_color": null,
            "description_width": ""
          }
        },
        "5999d3d3354e472cb56af1dcef11c669": {
          "model_module": "@jupyter-widgets/base",
          "model_name": "LayoutModel",
          "model_module_version": "1.2.0",
          "state": {
            "_model_module": "@jupyter-widgets/base",
            "_model_module_version": "1.2.0",
            "_model_name": "LayoutModel",
            "_view_count": null,
            "_view_module": "@jupyter-widgets/base",
            "_view_module_version": "1.2.0",
            "_view_name": "LayoutView",
            "align_content": null,
            "align_items": null,
            "align_self": null,
            "border": null,
            "bottom": null,
            "display": null,
            "flex": null,
            "flex_flow": null,
            "grid_area": null,
            "grid_auto_columns": null,
            "grid_auto_flow": null,
            "grid_auto_rows": null,
            "grid_column": null,
            "grid_gap": null,
            "grid_row": null,
            "grid_template_areas": null,
            "grid_template_columns": null,
            "grid_template_rows": null,
            "height": null,
            "justify_content": null,
            "justify_items": null,
            "left": null,
            "margin": null,
            "max_height": null,
            "max_width": null,
            "min_height": null,
            "min_width": null,
            "object_fit": null,
            "object_position": null,
            "order": null,
            "overflow": null,
            "overflow_x": null,
            "overflow_y": null,
            "padding": null,
            "right": null,
            "top": null,
            "visibility": null,
            "width": null
          }
        },
        "a4930ce97dbd4114b038efc195cbc5f2": {
          "model_module": "@jupyter-widgets/controls",
          "model_name": "DescriptionStyleModel",
          "model_module_version": "1.5.0",
          "state": {
            "_model_module": "@jupyter-widgets/controls",
            "_model_module_version": "1.5.0",
            "_model_name": "DescriptionStyleModel",
            "_view_count": null,
            "_view_module": "@jupyter-widgets/base",
            "_view_module_version": "1.2.0",
            "_view_name": "StyleView",
            "description_width": ""
          }
        },
        "2eeb52eb9b904ba88ac9de9380834b4e": {
          "model_module": "@jupyter-widgets/controls",
          "model_name": "HBoxModel",
          "model_module_version": "1.5.0",
          "state": {
            "_dom_classes": [],
            "_model_module": "@jupyter-widgets/controls",
            "_model_module_version": "1.5.0",
            "_model_name": "HBoxModel",
            "_view_count": null,
            "_view_module": "@jupyter-widgets/controls",
            "_view_module_version": "1.5.0",
            "_view_name": "HBoxView",
            "box_style": "",
            "children": [
              "IPY_MODEL_13f4cd67192e427f94649da2170d956d",
              "IPY_MODEL_0a31a31c2377415bb3c7d625b04d39c4",
              "IPY_MODEL_d969c48ebe484a488538ec5221477a67"
            ],
            "layout": "IPY_MODEL_3d52e65ae8f04b5a98bf8e0cc77ba267"
          }
        },
        "13f4cd67192e427f94649da2170d956d": {
          "model_module": "@jupyter-widgets/controls",
          "model_name": "HTMLModel",
          "model_module_version": "1.5.0",
          "state": {
            "_dom_classes": [],
            "_model_module": "@jupyter-widgets/controls",
            "_model_module_version": "1.5.0",
            "_model_name": "HTMLModel",
            "_view_count": null,
            "_view_module": "@jupyter-widgets/controls",
            "_view_module_version": "1.5.0",
            "_view_name": "HTMLView",
            "description": "",
            "description_tooltip": null,
            "layout": "IPY_MODEL_4cae5a00fac74c2fb5adc5ae01e98b40",
            "placeholder": "​",
            "style": "IPY_MODEL_a2224e412218465a8f80de4b84a177f7",
            "value": "config.json: 100%"
          }
        },
        "0a31a31c2377415bb3c7d625b04d39c4": {
          "model_module": "@jupyter-widgets/controls",
          "model_name": "FloatProgressModel",
          "model_module_version": "1.5.0",
          "state": {
            "_dom_classes": [],
            "_model_module": "@jupyter-widgets/controls",
            "_model_module_version": "1.5.0",
            "_model_name": "FloatProgressModel",
            "_view_count": null,
            "_view_module": "@jupyter-widgets/controls",
            "_view_module_version": "1.5.0",
            "_view_name": "ProgressView",
            "bar_style": "success",
            "description": "",
            "description_tooltip": null,
            "layout": "IPY_MODEL_5b029dd6f1014bc1a2bb28e750c4699f",
            "max": 570,
            "min": 0,
            "orientation": "horizontal",
            "style": "IPY_MODEL_6d77f5b878754f38ab4d61d234317b11",
            "value": 570
          }
        },
        "d969c48ebe484a488538ec5221477a67": {
          "model_module": "@jupyter-widgets/controls",
          "model_name": "HTMLModel",
          "model_module_version": "1.5.0",
          "state": {
            "_dom_classes": [],
            "_model_module": "@jupyter-widgets/controls",
            "_model_module_version": "1.5.0",
            "_model_name": "HTMLModel",
            "_view_count": null,
            "_view_module": "@jupyter-widgets/controls",
            "_view_module_version": "1.5.0",
            "_view_name": "HTMLView",
            "description": "",
            "description_tooltip": null,
            "layout": "IPY_MODEL_aa96d96148bd41b4914f30f54d1e6a38",
            "placeholder": "​",
            "style": "IPY_MODEL_247f070b178945e5a27f1f57d5f32e53",
            "value": " 570/570 [00:00&lt;00:00, 15.2kB/s]"
          }
        },
        "3d52e65ae8f04b5a98bf8e0cc77ba267": {
          "model_module": "@jupyter-widgets/base",
          "model_name": "LayoutModel",
          "model_module_version": "1.2.0",
          "state": {
            "_model_module": "@jupyter-widgets/base",
            "_model_module_version": "1.2.0",
            "_model_name": "LayoutModel",
            "_view_count": null,
            "_view_module": "@jupyter-widgets/base",
            "_view_module_version": "1.2.0",
            "_view_name": "LayoutView",
            "align_content": null,
            "align_items": null,
            "align_self": null,
            "border": null,
            "bottom": null,
            "display": null,
            "flex": null,
            "flex_flow": null,
            "grid_area": null,
            "grid_auto_columns": null,
            "grid_auto_flow": null,
            "grid_auto_rows": null,
            "grid_column": null,
            "grid_gap": null,
            "grid_row": null,
            "grid_template_areas": null,
            "grid_template_columns": null,
            "grid_template_rows": null,
            "height": null,
            "justify_content": null,
            "justify_items": null,
            "left": null,
            "margin": null,
            "max_height": null,
            "max_width": null,
            "min_height": null,
            "min_width": null,
            "object_fit": null,
            "object_position": null,
            "order": null,
            "overflow": null,
            "overflow_x": null,
            "overflow_y": null,
            "padding": null,
            "right": null,
            "top": null,
            "visibility": null,
            "width": null
          }
        },
        "4cae5a00fac74c2fb5adc5ae01e98b40": {
          "model_module": "@jupyter-widgets/base",
          "model_name": "LayoutModel",
          "model_module_version": "1.2.0",
          "state": {
            "_model_module": "@jupyter-widgets/base",
            "_model_module_version": "1.2.0",
            "_model_name": "LayoutModel",
            "_view_count": null,
            "_view_module": "@jupyter-widgets/base",
            "_view_module_version": "1.2.0",
            "_view_name": "LayoutView",
            "align_content": null,
            "align_items": null,
            "align_self": null,
            "border": null,
            "bottom": null,
            "display": null,
            "flex": null,
            "flex_flow": null,
            "grid_area": null,
            "grid_auto_columns": null,
            "grid_auto_flow": null,
            "grid_auto_rows": null,
            "grid_column": null,
            "grid_gap": null,
            "grid_row": null,
            "grid_template_areas": null,
            "grid_template_columns": null,
            "grid_template_rows": null,
            "height": null,
            "justify_content": null,
            "justify_items": null,
            "left": null,
            "margin": null,
            "max_height": null,
            "max_width": null,
            "min_height": null,
            "min_width": null,
            "object_fit": null,
            "object_position": null,
            "order": null,
            "overflow": null,
            "overflow_x": null,
            "overflow_y": null,
            "padding": null,
            "right": null,
            "top": null,
            "visibility": null,
            "width": null
          }
        },
        "a2224e412218465a8f80de4b84a177f7": {
          "model_module": "@jupyter-widgets/controls",
          "model_name": "DescriptionStyleModel",
          "model_module_version": "1.5.0",
          "state": {
            "_model_module": "@jupyter-widgets/controls",
            "_model_module_version": "1.5.0",
            "_model_name": "DescriptionStyleModel",
            "_view_count": null,
            "_view_module": "@jupyter-widgets/base",
            "_view_module_version": "1.2.0",
            "_view_name": "StyleView",
            "description_width": ""
          }
        },
        "5b029dd6f1014bc1a2bb28e750c4699f": {
          "model_module": "@jupyter-widgets/base",
          "model_name": "LayoutModel",
          "model_module_version": "1.2.0",
          "state": {
            "_model_module": "@jupyter-widgets/base",
            "_model_module_version": "1.2.0",
            "_model_name": "LayoutModel",
            "_view_count": null,
            "_view_module": "@jupyter-widgets/base",
            "_view_module_version": "1.2.0",
            "_view_name": "LayoutView",
            "align_content": null,
            "align_items": null,
            "align_self": null,
            "border": null,
            "bottom": null,
            "display": null,
            "flex": null,
            "flex_flow": null,
            "grid_area": null,
            "grid_auto_columns": null,
            "grid_auto_flow": null,
            "grid_auto_rows": null,
            "grid_column": null,
            "grid_gap": null,
            "grid_row": null,
            "grid_template_areas": null,
            "grid_template_columns": null,
            "grid_template_rows": null,
            "height": null,
            "justify_content": null,
            "justify_items": null,
            "left": null,
            "margin": null,
            "max_height": null,
            "max_width": null,
            "min_height": null,
            "min_width": null,
            "object_fit": null,
            "object_position": null,
            "order": null,
            "overflow": null,
            "overflow_x": null,
            "overflow_y": null,
            "padding": null,
            "right": null,
            "top": null,
            "visibility": null,
            "width": null
          }
        },
        "6d77f5b878754f38ab4d61d234317b11": {
          "model_module": "@jupyter-widgets/controls",
          "model_name": "ProgressStyleModel",
          "model_module_version": "1.5.0",
          "state": {
            "_model_module": "@jupyter-widgets/controls",
            "_model_module_version": "1.5.0",
            "_model_name": "ProgressStyleModel",
            "_view_count": null,
            "_view_module": "@jupyter-widgets/base",
            "_view_module_version": "1.2.0",
            "_view_name": "StyleView",
            "bar_color": null,
            "description_width": ""
          }
        },
        "aa96d96148bd41b4914f30f54d1e6a38": {
          "model_module": "@jupyter-widgets/base",
          "model_name": "LayoutModel",
          "model_module_version": "1.2.0",
          "state": {
            "_model_module": "@jupyter-widgets/base",
            "_model_module_version": "1.2.0",
            "_model_name": "LayoutModel",
            "_view_count": null,
            "_view_module": "@jupyter-widgets/base",
            "_view_module_version": "1.2.0",
            "_view_name": "LayoutView",
            "align_content": null,
            "align_items": null,
            "align_self": null,
            "border": null,
            "bottom": null,
            "display": null,
            "flex": null,
            "flex_flow": null,
            "grid_area": null,
            "grid_auto_columns": null,
            "grid_auto_flow": null,
            "grid_auto_rows": null,
            "grid_column": null,
            "grid_gap": null,
            "grid_row": null,
            "grid_template_areas": null,
            "grid_template_columns": null,
            "grid_template_rows": null,
            "height": null,
            "justify_content": null,
            "justify_items": null,
            "left": null,
            "margin": null,
            "max_height": null,
            "max_width": null,
            "min_height": null,
            "min_width": null,
            "object_fit": null,
            "object_position": null,
            "order": null,
            "overflow": null,
            "overflow_x": null,
            "overflow_y": null,
            "padding": null,
            "right": null,
            "top": null,
            "visibility": null,
            "width": null
          }
        },
        "247f070b178945e5a27f1f57d5f32e53": {
          "model_module": "@jupyter-widgets/controls",
          "model_name": "DescriptionStyleModel",
          "model_module_version": "1.5.0",
          "state": {
            "_model_module": "@jupyter-widgets/controls",
            "_model_module_version": "1.5.0",
            "_model_name": "DescriptionStyleModel",
            "_view_count": null,
            "_view_module": "@jupyter-widgets/base",
            "_view_module_version": "1.2.0",
            "_view_name": "StyleView",
            "description_width": ""
          }
        },
        "f28c50c86b89473e81f4eb1eb2f9a90d": {
          "model_module": "@jupyter-widgets/controls",
          "model_name": "HBoxModel",
          "model_module_version": "1.5.0",
          "state": {
            "_dom_classes": [],
            "_model_module": "@jupyter-widgets/controls",
            "_model_module_version": "1.5.0",
            "_model_name": "HBoxModel",
            "_view_count": null,
            "_view_module": "@jupyter-widgets/controls",
            "_view_module_version": "1.5.0",
            "_view_name": "HBoxView",
            "box_style": "",
            "children": [
              "IPY_MODEL_93769c91a147454cafa15906b4ab326a",
              "IPY_MODEL_77a62f599ee24d17bc094dcc450b115f",
              "IPY_MODEL_1237587ee6bd4b728e181972576a1eb3"
            ],
            "layout": "IPY_MODEL_b91ef70474e14409865c4f005a817a81"
          }
        },
        "93769c91a147454cafa15906b4ab326a": {
          "model_module": "@jupyter-widgets/controls",
          "model_name": "HTMLModel",
          "model_module_version": "1.5.0",
          "state": {
            "_dom_classes": [],
            "_model_module": "@jupyter-widgets/controls",
            "_model_module_version": "1.5.0",
            "_model_name": "HTMLModel",
            "_view_count": null,
            "_view_module": "@jupyter-widgets/controls",
            "_view_module_version": "1.5.0",
            "_view_name": "HTMLView",
            "description": "",
            "description_tooltip": null,
            "layout": "IPY_MODEL_be3380b23639463b889be40b1609c3eb",
            "placeholder": "​",
            "style": "IPY_MODEL_eb7aacee8212404da05a23e2dd076d39",
            "value": "vocab.txt: 100%"
          }
        },
        "77a62f599ee24d17bc094dcc450b115f": {
          "model_module": "@jupyter-widgets/controls",
          "model_name": "FloatProgressModel",
          "model_module_version": "1.5.0",
          "state": {
            "_dom_classes": [],
            "_model_module": "@jupyter-widgets/controls",
            "_model_module_version": "1.5.0",
            "_model_name": "FloatProgressModel",
            "_view_count": null,
            "_view_module": "@jupyter-widgets/controls",
            "_view_module_version": "1.5.0",
            "_view_name": "ProgressView",
            "bar_style": "success",
            "description": "",
            "description_tooltip": null,
            "layout": "IPY_MODEL_d6d37a7e0d0040fc98b24a74f7068e2f",
            "max": 213450,
            "min": 0,
            "orientation": "horizontal",
            "style": "IPY_MODEL_4c0dd4693adc4e84b6c25760e932bb98",
            "value": 213450
          }
        },
        "1237587ee6bd4b728e181972576a1eb3": {
          "model_module": "@jupyter-widgets/controls",
          "model_name": "HTMLModel",
          "model_module_version": "1.5.0",
          "state": {
            "_dom_classes": [],
            "_model_module": "@jupyter-widgets/controls",
            "_model_module_version": "1.5.0",
            "_model_name": "HTMLModel",
            "_view_count": null,
            "_view_module": "@jupyter-widgets/controls",
            "_view_module_version": "1.5.0",
            "_view_name": "HTMLView",
            "description": "",
            "description_tooltip": null,
            "layout": "IPY_MODEL_283047cbde3e481b9c5197c1e8f09668",
            "placeholder": "​",
            "style": "IPY_MODEL_428fa1a83fc84d5aa14d79df9027a741",
            "value": " 213k/213k [00:00&lt;00:00, 1.02MB/s]"
          }
        },
        "b91ef70474e14409865c4f005a817a81": {
          "model_module": "@jupyter-widgets/base",
          "model_name": "LayoutModel",
          "model_module_version": "1.2.0",
          "state": {
            "_model_module": "@jupyter-widgets/base",
            "_model_module_version": "1.2.0",
            "_model_name": "LayoutModel",
            "_view_count": null,
            "_view_module": "@jupyter-widgets/base",
            "_view_module_version": "1.2.0",
            "_view_name": "LayoutView",
            "align_content": null,
            "align_items": null,
            "align_self": null,
            "border": null,
            "bottom": null,
            "display": null,
            "flex": null,
            "flex_flow": null,
            "grid_area": null,
            "grid_auto_columns": null,
            "grid_auto_flow": null,
            "grid_auto_rows": null,
            "grid_column": null,
            "grid_gap": null,
            "grid_row": null,
            "grid_template_areas": null,
            "grid_template_columns": null,
            "grid_template_rows": null,
            "height": null,
            "justify_content": null,
            "justify_items": null,
            "left": null,
            "margin": null,
            "max_height": null,
            "max_width": null,
            "min_height": null,
            "min_width": null,
            "object_fit": null,
            "object_position": null,
            "order": null,
            "overflow": null,
            "overflow_x": null,
            "overflow_y": null,
            "padding": null,
            "right": null,
            "top": null,
            "visibility": null,
            "width": null
          }
        },
        "be3380b23639463b889be40b1609c3eb": {
          "model_module": "@jupyter-widgets/base",
          "model_name": "LayoutModel",
          "model_module_version": "1.2.0",
          "state": {
            "_model_module": "@jupyter-widgets/base",
            "_model_module_version": "1.2.0",
            "_model_name": "LayoutModel",
            "_view_count": null,
            "_view_module": "@jupyter-widgets/base",
            "_view_module_version": "1.2.0",
            "_view_name": "LayoutView",
            "align_content": null,
            "align_items": null,
            "align_self": null,
            "border": null,
            "bottom": null,
            "display": null,
            "flex": null,
            "flex_flow": null,
            "grid_area": null,
            "grid_auto_columns": null,
            "grid_auto_flow": null,
            "grid_auto_rows": null,
            "grid_column": null,
            "grid_gap": null,
            "grid_row": null,
            "grid_template_areas": null,
            "grid_template_columns": null,
            "grid_template_rows": null,
            "height": null,
            "justify_content": null,
            "justify_items": null,
            "left": null,
            "margin": null,
            "max_height": null,
            "max_width": null,
            "min_height": null,
            "min_width": null,
            "object_fit": null,
            "object_position": null,
            "order": null,
            "overflow": null,
            "overflow_x": null,
            "overflow_y": null,
            "padding": null,
            "right": null,
            "top": null,
            "visibility": null,
            "width": null
          }
        },
        "eb7aacee8212404da05a23e2dd076d39": {
          "model_module": "@jupyter-widgets/controls",
          "model_name": "DescriptionStyleModel",
          "model_module_version": "1.5.0",
          "state": {
            "_model_module": "@jupyter-widgets/controls",
            "_model_module_version": "1.5.0",
            "_model_name": "DescriptionStyleModel",
            "_view_count": null,
            "_view_module": "@jupyter-widgets/base",
            "_view_module_version": "1.2.0",
            "_view_name": "StyleView",
            "description_width": ""
          }
        },
        "d6d37a7e0d0040fc98b24a74f7068e2f": {
          "model_module": "@jupyter-widgets/base",
          "model_name": "LayoutModel",
          "model_module_version": "1.2.0",
          "state": {
            "_model_module": "@jupyter-widgets/base",
            "_model_module_version": "1.2.0",
            "_model_name": "LayoutModel",
            "_view_count": null,
            "_view_module": "@jupyter-widgets/base",
            "_view_module_version": "1.2.0",
            "_view_name": "LayoutView",
            "align_content": null,
            "align_items": null,
            "align_self": null,
            "border": null,
            "bottom": null,
            "display": null,
            "flex": null,
            "flex_flow": null,
            "grid_area": null,
            "grid_auto_columns": null,
            "grid_auto_flow": null,
            "grid_auto_rows": null,
            "grid_column": null,
            "grid_gap": null,
            "grid_row": null,
            "grid_template_areas": null,
            "grid_template_columns": null,
            "grid_template_rows": null,
            "height": null,
            "justify_content": null,
            "justify_items": null,
            "left": null,
            "margin": null,
            "max_height": null,
            "max_width": null,
            "min_height": null,
            "min_width": null,
            "object_fit": null,
            "object_position": null,
            "order": null,
            "overflow": null,
            "overflow_x": null,
            "overflow_y": null,
            "padding": null,
            "right": null,
            "top": null,
            "visibility": null,
            "width": null
          }
        },
        "4c0dd4693adc4e84b6c25760e932bb98": {
          "model_module": "@jupyter-widgets/controls",
          "model_name": "ProgressStyleModel",
          "model_module_version": "1.5.0",
          "state": {
            "_model_module": "@jupyter-widgets/controls",
            "_model_module_version": "1.5.0",
            "_model_name": "ProgressStyleModel",
            "_view_count": null,
            "_view_module": "@jupyter-widgets/base",
            "_view_module_version": "1.2.0",
            "_view_name": "StyleView",
            "bar_color": null,
            "description_width": ""
          }
        },
        "283047cbde3e481b9c5197c1e8f09668": {
          "model_module": "@jupyter-widgets/base",
          "model_name": "LayoutModel",
          "model_module_version": "1.2.0",
          "state": {
            "_model_module": "@jupyter-widgets/base",
            "_model_module_version": "1.2.0",
            "_model_name": "LayoutModel",
            "_view_count": null,
            "_view_module": "@jupyter-widgets/base",
            "_view_module_version": "1.2.0",
            "_view_name": "LayoutView",
            "align_content": null,
            "align_items": null,
            "align_self": null,
            "border": null,
            "bottom": null,
            "display": null,
            "flex": null,
            "flex_flow": null,
            "grid_area": null,
            "grid_auto_columns": null,
            "grid_auto_flow": null,
            "grid_auto_rows": null,
            "grid_column": null,
            "grid_gap": null,
            "grid_row": null,
            "grid_template_areas": null,
            "grid_template_columns": null,
            "grid_template_rows": null,
            "height": null,
            "justify_content": null,
            "justify_items": null,
            "left": null,
            "margin": null,
            "max_height": null,
            "max_width": null,
            "min_height": null,
            "min_width": null,
            "object_fit": null,
            "object_position": null,
            "order": null,
            "overflow": null,
            "overflow_x": null,
            "overflow_y": null,
            "padding": null,
            "right": null,
            "top": null,
            "visibility": null,
            "width": null
          }
        },
        "428fa1a83fc84d5aa14d79df9027a741": {
          "model_module": "@jupyter-widgets/controls",
          "model_name": "DescriptionStyleModel",
          "model_module_version": "1.5.0",
          "state": {
            "_model_module": "@jupyter-widgets/controls",
            "_model_module_version": "1.5.0",
            "_model_name": "DescriptionStyleModel",
            "_view_count": null,
            "_view_module": "@jupyter-widgets/base",
            "_view_module_version": "1.2.0",
            "_view_name": "StyleView",
            "description_width": ""
          }
        },
        "4aab26bb90bc4b4ebd8fb1a0382724fa": {
          "model_module": "@jupyter-widgets/controls",
          "model_name": "HBoxModel",
          "model_module_version": "1.5.0",
          "state": {
            "_dom_classes": [],
            "_model_module": "@jupyter-widgets/controls",
            "_model_module_version": "1.5.0",
            "_model_name": "HBoxModel",
            "_view_count": null,
            "_view_module": "@jupyter-widgets/controls",
            "_view_module_version": "1.5.0",
            "_view_name": "HBoxView",
            "box_style": "",
            "children": [
              "IPY_MODEL_52a55b6f96b14215ba0bed842dd9ec63",
              "IPY_MODEL_b8a391bb36084905b16d5590bec1fb7f",
              "IPY_MODEL_f91ce7586b294493901e727e9cb9e106"
            ],
            "layout": "IPY_MODEL_cdf43c0afa9a47c7ab000e3df7ee3956"
          }
        },
        "52a55b6f96b14215ba0bed842dd9ec63": {
          "model_module": "@jupyter-widgets/controls",
          "model_name": "HTMLModel",
          "model_module_version": "1.5.0",
          "state": {
            "_dom_classes": [],
            "_model_module": "@jupyter-widgets/controls",
            "_model_module_version": "1.5.0",
            "_model_name": "HTMLModel",
            "_view_count": null,
            "_view_module": "@jupyter-widgets/controls",
            "_view_module_version": "1.5.0",
            "_view_name": "HTMLView",
            "description": "",
            "description_tooltip": null,
            "layout": "IPY_MODEL_cb8296cd83f0406f9fc8910def2a5168",
            "placeholder": "​",
            "style": "IPY_MODEL_0d0e3368f3084fd788f887910326625f",
            "value": "tokenizer.json: 100%"
          }
        },
        "b8a391bb36084905b16d5590bec1fb7f": {
          "model_module": "@jupyter-widgets/controls",
          "model_name": "FloatProgressModel",
          "model_module_version": "1.5.0",
          "state": {
            "_dom_classes": [],
            "_model_module": "@jupyter-widgets/controls",
            "_model_module_version": "1.5.0",
            "_model_name": "FloatProgressModel",
            "_view_count": null,
            "_view_module": "@jupyter-widgets/controls",
            "_view_module_version": "1.5.0",
            "_view_name": "ProgressView",
            "bar_style": "success",
            "description": "",
            "description_tooltip": null,
            "layout": "IPY_MODEL_4f7e64fe4fa84d97ae400e090bb9e4b5",
            "max": 435797,
            "min": 0,
            "orientation": "horizontal",
            "style": "IPY_MODEL_664834bbb2e84bde93ee12d09cd7b2a9",
            "value": 435797
          }
        },
        "f91ce7586b294493901e727e9cb9e106": {
          "model_module": "@jupyter-widgets/controls",
          "model_name": "HTMLModel",
          "model_module_version": "1.5.0",
          "state": {
            "_dom_classes": [],
            "_model_module": "@jupyter-widgets/controls",
            "_model_module_version": "1.5.0",
            "_model_name": "HTMLModel",
            "_view_count": null,
            "_view_module": "@jupyter-widgets/controls",
            "_view_module_version": "1.5.0",
            "_view_name": "HTMLView",
            "description": "",
            "description_tooltip": null,
            "layout": "IPY_MODEL_ea3df6b206a24d779b81979480b13020",
            "placeholder": "​",
            "style": "IPY_MODEL_0fd64b5e60014632966c9ad8f204c992",
            "value": " 436k/436k [00:00&lt;00:00, 1.99MB/s]"
          }
        },
        "cdf43c0afa9a47c7ab000e3df7ee3956": {
          "model_module": "@jupyter-widgets/base",
          "model_name": "LayoutModel",
          "model_module_version": "1.2.0",
          "state": {
            "_model_module": "@jupyter-widgets/base",
            "_model_module_version": "1.2.0",
            "_model_name": "LayoutModel",
            "_view_count": null,
            "_view_module": "@jupyter-widgets/base",
            "_view_module_version": "1.2.0",
            "_view_name": "LayoutView",
            "align_content": null,
            "align_items": null,
            "align_self": null,
            "border": null,
            "bottom": null,
            "display": null,
            "flex": null,
            "flex_flow": null,
            "grid_area": null,
            "grid_auto_columns": null,
            "grid_auto_flow": null,
            "grid_auto_rows": null,
            "grid_column": null,
            "grid_gap": null,
            "grid_row": null,
            "grid_template_areas": null,
            "grid_template_columns": null,
            "grid_template_rows": null,
            "height": null,
            "justify_content": null,
            "justify_items": null,
            "left": null,
            "margin": null,
            "max_height": null,
            "max_width": null,
            "min_height": null,
            "min_width": null,
            "object_fit": null,
            "object_position": null,
            "order": null,
            "overflow": null,
            "overflow_x": null,
            "overflow_y": null,
            "padding": null,
            "right": null,
            "top": null,
            "visibility": null,
            "width": null
          }
        },
        "cb8296cd83f0406f9fc8910def2a5168": {
          "model_module": "@jupyter-widgets/base",
          "model_name": "LayoutModel",
          "model_module_version": "1.2.0",
          "state": {
            "_model_module": "@jupyter-widgets/base",
            "_model_module_version": "1.2.0",
            "_model_name": "LayoutModel",
            "_view_count": null,
            "_view_module": "@jupyter-widgets/base",
            "_view_module_version": "1.2.0",
            "_view_name": "LayoutView",
            "align_content": null,
            "align_items": null,
            "align_self": null,
            "border": null,
            "bottom": null,
            "display": null,
            "flex": null,
            "flex_flow": null,
            "grid_area": null,
            "grid_auto_columns": null,
            "grid_auto_flow": null,
            "grid_auto_rows": null,
            "grid_column": null,
            "grid_gap": null,
            "grid_row": null,
            "grid_template_areas": null,
            "grid_template_columns": null,
            "grid_template_rows": null,
            "height": null,
            "justify_content": null,
            "justify_items": null,
            "left": null,
            "margin": null,
            "max_height": null,
            "max_width": null,
            "min_height": null,
            "min_width": null,
            "object_fit": null,
            "object_position": null,
            "order": null,
            "overflow": null,
            "overflow_x": null,
            "overflow_y": null,
            "padding": null,
            "right": null,
            "top": null,
            "visibility": null,
            "width": null
          }
        },
        "0d0e3368f3084fd788f887910326625f": {
          "model_module": "@jupyter-widgets/controls",
          "model_name": "DescriptionStyleModel",
          "model_module_version": "1.5.0",
          "state": {
            "_model_module": "@jupyter-widgets/controls",
            "_model_module_version": "1.5.0",
            "_model_name": "DescriptionStyleModel",
            "_view_count": null,
            "_view_module": "@jupyter-widgets/base",
            "_view_module_version": "1.2.0",
            "_view_name": "StyleView",
            "description_width": ""
          }
        },
        "4f7e64fe4fa84d97ae400e090bb9e4b5": {
          "model_module": "@jupyter-widgets/base",
          "model_name": "LayoutModel",
          "model_module_version": "1.2.0",
          "state": {
            "_model_module": "@jupyter-widgets/base",
            "_model_module_version": "1.2.0",
            "_model_name": "LayoutModel",
            "_view_count": null,
            "_view_module": "@jupyter-widgets/base",
            "_view_module_version": "1.2.0",
            "_view_name": "LayoutView",
            "align_content": null,
            "align_items": null,
            "align_self": null,
            "border": null,
            "bottom": null,
            "display": null,
            "flex": null,
            "flex_flow": null,
            "grid_area": null,
            "grid_auto_columns": null,
            "grid_auto_flow": null,
            "grid_auto_rows": null,
            "grid_column": null,
            "grid_gap": null,
            "grid_row": null,
            "grid_template_areas": null,
            "grid_template_columns": null,
            "grid_template_rows": null,
            "height": null,
            "justify_content": null,
            "justify_items": null,
            "left": null,
            "margin": null,
            "max_height": null,
            "max_width": null,
            "min_height": null,
            "min_width": null,
            "object_fit": null,
            "object_position": null,
            "order": null,
            "overflow": null,
            "overflow_x": null,
            "overflow_y": null,
            "padding": null,
            "right": null,
            "top": null,
            "visibility": null,
            "width": null
          }
        },
        "664834bbb2e84bde93ee12d09cd7b2a9": {
          "model_module": "@jupyter-widgets/controls",
          "model_name": "ProgressStyleModel",
          "model_module_version": "1.5.0",
          "state": {
            "_model_module": "@jupyter-widgets/controls",
            "_model_module_version": "1.5.0",
            "_model_name": "ProgressStyleModel",
            "_view_count": null,
            "_view_module": "@jupyter-widgets/base",
            "_view_module_version": "1.2.0",
            "_view_name": "StyleView",
            "bar_color": null,
            "description_width": ""
          }
        },
        "ea3df6b206a24d779b81979480b13020": {
          "model_module": "@jupyter-widgets/base",
          "model_name": "LayoutModel",
          "model_module_version": "1.2.0",
          "state": {
            "_model_module": "@jupyter-widgets/base",
            "_model_module_version": "1.2.0",
            "_model_name": "LayoutModel",
            "_view_count": null,
            "_view_module": "@jupyter-widgets/base",
            "_view_module_version": "1.2.0",
            "_view_name": "LayoutView",
            "align_content": null,
            "align_items": null,
            "align_self": null,
            "border": null,
            "bottom": null,
            "display": null,
            "flex": null,
            "flex_flow": null,
            "grid_area": null,
            "grid_auto_columns": null,
            "grid_auto_flow": null,
            "grid_auto_rows": null,
            "grid_column": null,
            "grid_gap": null,
            "grid_row": null,
            "grid_template_areas": null,
            "grid_template_columns": null,
            "grid_template_rows": null,
            "height": null,
            "justify_content": null,
            "justify_items": null,
            "left": null,
            "margin": null,
            "max_height": null,
            "max_width": null,
            "min_height": null,
            "min_width": null,
            "object_fit": null,
            "object_position": null,
            "order": null,
            "overflow": null,
            "overflow_x": null,
            "overflow_y": null,
            "padding": null,
            "right": null,
            "top": null,
            "visibility": null,
            "width": null
          }
        },
        "0fd64b5e60014632966c9ad8f204c992": {
          "model_module": "@jupyter-widgets/controls",
          "model_name": "DescriptionStyleModel",
          "model_module_version": "1.5.0",
          "state": {
            "_model_module": "@jupyter-widgets/controls",
            "_model_module_version": "1.5.0",
            "_model_name": "DescriptionStyleModel",
            "_view_count": null,
            "_view_module": "@jupyter-widgets/base",
            "_view_module_version": "1.2.0",
            "_view_name": "StyleView",
            "description_width": ""
          }
        },
        "217b384d4dd84116911d69a7c06233fb": {
          "model_module": "@jupyter-widgets/controls",
          "model_name": "HBoxModel",
          "model_module_version": "1.5.0",
          "state": {
            "_dom_classes": [],
            "_model_module": "@jupyter-widgets/controls",
            "_model_module_version": "1.5.0",
            "_model_name": "HBoxModel",
            "_view_count": null,
            "_view_module": "@jupyter-widgets/controls",
            "_view_module_version": "1.5.0",
            "_view_name": "HBoxView",
            "box_style": "",
            "children": [
              "IPY_MODEL_48fa8106325449b3a82ccdc431899883",
              "IPY_MODEL_5b9314b5e2fb4d2c8f1f659820b11921",
              "IPY_MODEL_2b0d04cd586c4d5083736efa442b7ab9"
            ],
            "layout": "IPY_MODEL_d2d1b652531149a199536b1a899f8c75"
          }
        },
        "48fa8106325449b3a82ccdc431899883": {
          "model_module": "@jupyter-widgets/controls",
          "model_name": "HTMLModel",
          "model_module_version": "1.5.0",
          "state": {
            "_dom_classes": [],
            "_model_module": "@jupyter-widgets/controls",
            "_model_module_version": "1.5.0",
            "_model_name": "HTMLModel",
            "_view_count": null,
            "_view_module": "@jupyter-widgets/controls",
            "_view_module_version": "1.5.0",
            "_view_name": "HTMLView",
            "description": "",
            "description_tooltip": null,
            "layout": "IPY_MODEL_bea611372d2e4f259fe6affce87cb428",
            "placeholder": "​",
            "style": "IPY_MODEL_69c970870ca04f198d328b0a118eca0c",
            "value": "Generating train split: "
          }
        },
        "5b9314b5e2fb4d2c8f1f659820b11921": {
          "model_module": "@jupyter-widgets/controls",
          "model_name": "FloatProgressModel",
          "model_module_version": "1.5.0",
          "state": {
            "_dom_classes": [],
            "_model_module": "@jupyter-widgets/controls",
            "_model_module_version": "1.5.0",
            "_model_name": "FloatProgressModel",
            "_view_count": null,
            "_view_module": "@jupyter-widgets/controls",
            "_view_module_version": "1.5.0",
            "_view_name": "ProgressView",
            "bar_style": "success",
            "description": "",
            "description_tooltip": null,
            "layout": "IPY_MODEL_e9db45eddf35442eb313f1dd054356ff",
            "max": 1,
            "min": 0,
            "orientation": "horizontal",
            "style": "IPY_MODEL_98488a1e05bb42c2bf024cc6e159b698",
            "value": 1
          }
        },
        "2b0d04cd586c4d5083736efa442b7ab9": {
          "model_module": "@jupyter-widgets/controls",
          "model_name": "HTMLModel",
          "model_module_version": "1.5.0",
          "state": {
            "_dom_classes": [],
            "_model_module": "@jupyter-widgets/controls",
            "_model_module_version": "1.5.0",
            "_model_name": "HTMLModel",
            "_view_count": null,
            "_view_module": "@jupyter-widgets/controls",
            "_view_module_version": "1.5.0",
            "_view_name": "HTMLView",
            "description": "",
            "description_tooltip": null,
            "layout": "IPY_MODEL_fc4f2480a1074e63997d19bb274af077",
            "placeholder": "​",
            "style": "IPY_MODEL_e23561126634480191a22a2816f2e25b",
            "value": " 14041/0 [00:01&lt;00:00, 13192.79 examples/s]"
          }
        },
        "d2d1b652531149a199536b1a899f8c75": {
          "model_module": "@jupyter-widgets/base",
          "model_name": "LayoutModel",
          "model_module_version": "1.2.0",
          "state": {
            "_model_module": "@jupyter-widgets/base",
            "_model_module_version": "1.2.0",
            "_model_name": "LayoutModel",
            "_view_count": null,
            "_view_module": "@jupyter-widgets/base",
            "_view_module_version": "1.2.0",
            "_view_name": "LayoutView",
            "align_content": null,
            "align_items": null,
            "align_self": null,
            "border": null,
            "bottom": null,
            "display": null,
            "flex": null,
            "flex_flow": null,
            "grid_area": null,
            "grid_auto_columns": null,
            "grid_auto_flow": null,
            "grid_auto_rows": null,
            "grid_column": null,
            "grid_gap": null,
            "grid_row": null,
            "grid_template_areas": null,
            "grid_template_columns": null,
            "grid_template_rows": null,
            "height": null,
            "justify_content": null,
            "justify_items": null,
            "left": null,
            "margin": null,
            "max_height": null,
            "max_width": null,
            "min_height": null,
            "min_width": null,
            "object_fit": null,
            "object_position": null,
            "order": null,
            "overflow": null,
            "overflow_x": null,
            "overflow_y": null,
            "padding": null,
            "right": null,
            "top": null,
            "visibility": null,
            "width": null
          }
        },
        "bea611372d2e4f259fe6affce87cb428": {
          "model_module": "@jupyter-widgets/base",
          "model_name": "LayoutModel",
          "model_module_version": "1.2.0",
          "state": {
            "_model_module": "@jupyter-widgets/base",
            "_model_module_version": "1.2.0",
            "_model_name": "LayoutModel",
            "_view_count": null,
            "_view_module": "@jupyter-widgets/base",
            "_view_module_version": "1.2.0",
            "_view_name": "LayoutView",
            "align_content": null,
            "align_items": null,
            "align_self": null,
            "border": null,
            "bottom": null,
            "display": null,
            "flex": null,
            "flex_flow": null,
            "grid_area": null,
            "grid_auto_columns": null,
            "grid_auto_flow": null,
            "grid_auto_rows": null,
            "grid_column": null,
            "grid_gap": null,
            "grid_row": null,
            "grid_template_areas": null,
            "grid_template_columns": null,
            "grid_template_rows": null,
            "height": null,
            "justify_content": null,
            "justify_items": null,
            "left": null,
            "margin": null,
            "max_height": null,
            "max_width": null,
            "min_height": null,
            "min_width": null,
            "object_fit": null,
            "object_position": null,
            "order": null,
            "overflow": null,
            "overflow_x": null,
            "overflow_y": null,
            "padding": null,
            "right": null,
            "top": null,
            "visibility": null,
            "width": null
          }
        },
        "69c970870ca04f198d328b0a118eca0c": {
          "model_module": "@jupyter-widgets/controls",
          "model_name": "DescriptionStyleModel",
          "model_module_version": "1.5.0",
          "state": {
            "_model_module": "@jupyter-widgets/controls",
            "_model_module_version": "1.5.0",
            "_model_name": "DescriptionStyleModel",
            "_view_count": null,
            "_view_module": "@jupyter-widgets/base",
            "_view_module_version": "1.2.0",
            "_view_name": "StyleView",
            "description_width": ""
          }
        },
        "e9db45eddf35442eb313f1dd054356ff": {
          "model_module": "@jupyter-widgets/base",
          "model_name": "LayoutModel",
          "model_module_version": "1.2.0",
          "state": {
            "_model_module": "@jupyter-widgets/base",
            "_model_module_version": "1.2.0",
            "_model_name": "LayoutModel",
            "_view_count": null,
            "_view_module": "@jupyter-widgets/base",
            "_view_module_version": "1.2.0",
            "_view_name": "LayoutView",
            "align_content": null,
            "align_items": null,
            "align_self": null,
            "border": null,
            "bottom": null,
            "display": null,
            "flex": null,
            "flex_flow": null,
            "grid_area": null,
            "grid_auto_columns": null,
            "grid_auto_flow": null,
            "grid_auto_rows": null,
            "grid_column": null,
            "grid_gap": null,
            "grid_row": null,
            "grid_template_areas": null,
            "grid_template_columns": null,
            "grid_template_rows": null,
            "height": null,
            "justify_content": null,
            "justify_items": null,
            "left": null,
            "margin": null,
            "max_height": null,
            "max_width": null,
            "min_height": null,
            "min_width": null,
            "object_fit": null,
            "object_position": null,
            "order": null,
            "overflow": null,
            "overflow_x": null,
            "overflow_y": null,
            "padding": null,
            "right": null,
            "top": null,
            "visibility": null,
            "width": "20px"
          }
        },
        "98488a1e05bb42c2bf024cc6e159b698": {
          "model_module": "@jupyter-widgets/controls",
          "model_name": "ProgressStyleModel",
          "model_module_version": "1.5.0",
          "state": {
            "_model_module": "@jupyter-widgets/controls",
            "_model_module_version": "1.5.0",
            "_model_name": "ProgressStyleModel",
            "_view_count": null,
            "_view_module": "@jupyter-widgets/base",
            "_view_module_version": "1.2.0",
            "_view_name": "StyleView",
            "bar_color": null,
            "description_width": ""
          }
        },
        "fc4f2480a1074e63997d19bb274af077": {
          "model_module": "@jupyter-widgets/base",
          "model_name": "LayoutModel",
          "model_module_version": "1.2.0",
          "state": {
            "_model_module": "@jupyter-widgets/base",
            "_model_module_version": "1.2.0",
            "_model_name": "LayoutModel",
            "_view_count": null,
            "_view_module": "@jupyter-widgets/base",
            "_view_module_version": "1.2.0",
            "_view_name": "LayoutView",
            "align_content": null,
            "align_items": null,
            "align_self": null,
            "border": null,
            "bottom": null,
            "display": null,
            "flex": null,
            "flex_flow": null,
            "grid_area": null,
            "grid_auto_columns": null,
            "grid_auto_flow": null,
            "grid_auto_rows": null,
            "grid_column": null,
            "grid_gap": null,
            "grid_row": null,
            "grid_template_areas": null,
            "grid_template_columns": null,
            "grid_template_rows": null,
            "height": null,
            "justify_content": null,
            "justify_items": null,
            "left": null,
            "margin": null,
            "max_height": null,
            "max_width": null,
            "min_height": null,
            "min_width": null,
            "object_fit": null,
            "object_position": null,
            "order": null,
            "overflow": null,
            "overflow_x": null,
            "overflow_y": null,
            "padding": null,
            "right": null,
            "top": null,
            "visibility": null,
            "width": null
          }
        },
        "e23561126634480191a22a2816f2e25b": {
          "model_module": "@jupyter-widgets/controls",
          "model_name": "DescriptionStyleModel",
          "model_module_version": "1.5.0",
          "state": {
            "_model_module": "@jupyter-widgets/controls",
            "_model_module_version": "1.5.0",
            "_model_name": "DescriptionStyleModel",
            "_view_count": null,
            "_view_module": "@jupyter-widgets/base",
            "_view_module_version": "1.2.0",
            "_view_name": "StyleView",
            "description_width": ""
          }
        },
        "779adf0072ec46c0914f71256aa0519b": {
          "model_module": "@jupyter-widgets/controls",
          "model_name": "HBoxModel",
          "model_module_version": "1.5.0",
          "state": {
            "_dom_classes": [],
            "_model_module": "@jupyter-widgets/controls",
            "_model_module_version": "1.5.0",
            "_model_name": "HBoxModel",
            "_view_count": null,
            "_view_module": "@jupyter-widgets/controls",
            "_view_module_version": "1.5.0",
            "_view_name": "HBoxView",
            "box_style": "",
            "children": [
              "IPY_MODEL_4aeb5446bf0c48959be07f541e5c55da",
              "IPY_MODEL_95f083c6e2d04d6592fa1a72267c2066",
              "IPY_MODEL_3ac4d79e99c047e0bea1ab1a3bed4d9d"
            ],
            "layout": "IPY_MODEL_ff38472d6c6948c6a140513147115ac4"
          }
        },
        "4aeb5446bf0c48959be07f541e5c55da": {
          "model_module": "@jupyter-widgets/controls",
          "model_name": "HTMLModel",
          "model_module_version": "1.5.0",
          "state": {
            "_dom_classes": [],
            "_model_module": "@jupyter-widgets/controls",
            "_model_module_version": "1.5.0",
            "_model_name": "HTMLModel",
            "_view_count": null,
            "_view_module": "@jupyter-widgets/controls",
            "_view_module_version": "1.5.0",
            "_view_name": "HTMLView",
            "description": "",
            "description_tooltip": null,
            "layout": "IPY_MODEL_3056603cbb774113bb3d1642f43c50e5",
            "placeholder": "​",
            "style": "IPY_MODEL_5f110b8e70b3400892db6e68ca70ab52",
            "value": "Generating validation split: "
          }
        },
        "95f083c6e2d04d6592fa1a72267c2066": {
          "model_module": "@jupyter-widgets/controls",
          "model_name": "FloatProgressModel",
          "model_module_version": "1.5.0",
          "state": {
            "_dom_classes": [],
            "_model_module": "@jupyter-widgets/controls",
            "_model_module_version": "1.5.0",
            "_model_name": "FloatProgressModel",
            "_view_count": null,
            "_view_module": "@jupyter-widgets/controls",
            "_view_module_version": "1.5.0",
            "_view_name": "ProgressView",
            "bar_style": "success",
            "description": "",
            "description_tooltip": null,
            "layout": "IPY_MODEL_dc7ea15feea64013a15f8463b68eca0f",
            "max": 1,
            "min": 0,
            "orientation": "horizontal",
            "style": "IPY_MODEL_a95f3ec5e29049d89ddf249e29812fed",
            "value": 1
          }
        },
        "3ac4d79e99c047e0bea1ab1a3bed4d9d": {
          "model_module": "@jupyter-widgets/controls",
          "model_name": "HTMLModel",
          "model_module_version": "1.5.0",
          "state": {
            "_dom_classes": [],
            "_model_module": "@jupyter-widgets/controls",
            "_model_module_version": "1.5.0",
            "_model_name": "HTMLModel",
            "_view_count": null,
            "_view_module": "@jupyter-widgets/controls",
            "_view_module_version": "1.5.0",
            "_view_name": "HTMLView",
            "description": "",
            "description_tooltip": null,
            "layout": "IPY_MODEL_98333574ac0b41e3b2fec445dc21de1f",
            "placeholder": "​",
            "style": "IPY_MODEL_b61e6170f7e644f38d013a74a043def4",
            "value": " 3250/0 [00:00&lt;00:00, 3472.33 examples/s]"
          }
        },
        "ff38472d6c6948c6a140513147115ac4": {
          "model_module": "@jupyter-widgets/base",
          "model_name": "LayoutModel",
          "model_module_version": "1.2.0",
          "state": {
            "_model_module": "@jupyter-widgets/base",
            "_model_module_version": "1.2.0",
            "_model_name": "LayoutModel",
            "_view_count": null,
            "_view_module": "@jupyter-widgets/base",
            "_view_module_version": "1.2.0",
            "_view_name": "LayoutView",
            "align_content": null,
            "align_items": null,
            "align_self": null,
            "border": null,
            "bottom": null,
            "display": null,
            "flex": null,
            "flex_flow": null,
            "grid_area": null,
            "grid_auto_columns": null,
            "grid_auto_flow": null,
            "grid_auto_rows": null,
            "grid_column": null,
            "grid_gap": null,
            "grid_row": null,
            "grid_template_areas": null,
            "grid_template_columns": null,
            "grid_template_rows": null,
            "height": null,
            "justify_content": null,
            "justify_items": null,
            "left": null,
            "margin": null,
            "max_height": null,
            "max_width": null,
            "min_height": null,
            "min_width": null,
            "object_fit": null,
            "object_position": null,
            "order": null,
            "overflow": null,
            "overflow_x": null,
            "overflow_y": null,
            "padding": null,
            "right": null,
            "top": null,
            "visibility": null,
            "width": null
          }
        },
        "3056603cbb774113bb3d1642f43c50e5": {
          "model_module": "@jupyter-widgets/base",
          "model_name": "LayoutModel",
          "model_module_version": "1.2.0",
          "state": {
            "_model_module": "@jupyter-widgets/base",
            "_model_module_version": "1.2.0",
            "_model_name": "LayoutModel",
            "_view_count": null,
            "_view_module": "@jupyter-widgets/base",
            "_view_module_version": "1.2.0",
            "_view_name": "LayoutView",
            "align_content": null,
            "align_items": null,
            "align_self": null,
            "border": null,
            "bottom": null,
            "display": null,
            "flex": null,
            "flex_flow": null,
            "grid_area": null,
            "grid_auto_columns": null,
            "grid_auto_flow": null,
            "grid_auto_rows": null,
            "grid_column": null,
            "grid_gap": null,
            "grid_row": null,
            "grid_template_areas": null,
            "grid_template_columns": null,
            "grid_template_rows": null,
            "height": null,
            "justify_content": null,
            "justify_items": null,
            "left": null,
            "margin": null,
            "max_height": null,
            "max_width": null,
            "min_height": null,
            "min_width": null,
            "object_fit": null,
            "object_position": null,
            "order": null,
            "overflow": null,
            "overflow_x": null,
            "overflow_y": null,
            "padding": null,
            "right": null,
            "top": null,
            "visibility": null,
            "width": null
          }
        },
        "5f110b8e70b3400892db6e68ca70ab52": {
          "model_module": "@jupyter-widgets/controls",
          "model_name": "DescriptionStyleModel",
          "model_module_version": "1.5.0",
          "state": {
            "_model_module": "@jupyter-widgets/controls",
            "_model_module_version": "1.5.0",
            "_model_name": "DescriptionStyleModel",
            "_view_count": null,
            "_view_module": "@jupyter-widgets/base",
            "_view_module_version": "1.2.0",
            "_view_name": "StyleView",
            "description_width": ""
          }
        },
        "dc7ea15feea64013a15f8463b68eca0f": {
          "model_module": "@jupyter-widgets/base",
          "model_name": "LayoutModel",
          "model_module_version": "1.2.0",
          "state": {
            "_model_module": "@jupyter-widgets/base",
            "_model_module_version": "1.2.0",
            "_model_name": "LayoutModel",
            "_view_count": null,
            "_view_module": "@jupyter-widgets/base",
            "_view_module_version": "1.2.0",
            "_view_name": "LayoutView",
            "align_content": null,
            "align_items": null,
            "align_self": null,
            "border": null,
            "bottom": null,
            "display": null,
            "flex": null,
            "flex_flow": null,
            "grid_area": null,
            "grid_auto_columns": null,
            "grid_auto_flow": null,
            "grid_auto_rows": null,
            "grid_column": null,
            "grid_gap": null,
            "grid_row": null,
            "grid_template_areas": null,
            "grid_template_columns": null,
            "grid_template_rows": null,
            "height": null,
            "justify_content": null,
            "justify_items": null,
            "left": null,
            "margin": null,
            "max_height": null,
            "max_width": null,
            "min_height": null,
            "min_width": null,
            "object_fit": null,
            "object_position": null,
            "order": null,
            "overflow": null,
            "overflow_x": null,
            "overflow_y": null,
            "padding": null,
            "right": null,
            "top": null,
            "visibility": null,
            "width": "20px"
          }
        },
        "a95f3ec5e29049d89ddf249e29812fed": {
          "model_module": "@jupyter-widgets/controls",
          "model_name": "ProgressStyleModel",
          "model_module_version": "1.5.0",
          "state": {
            "_model_module": "@jupyter-widgets/controls",
            "_model_module_version": "1.5.0",
            "_model_name": "ProgressStyleModel",
            "_view_count": null,
            "_view_module": "@jupyter-widgets/base",
            "_view_module_version": "1.2.0",
            "_view_name": "StyleView",
            "bar_color": null,
            "description_width": ""
          }
        },
        "98333574ac0b41e3b2fec445dc21de1f": {
          "model_module": "@jupyter-widgets/base",
          "model_name": "LayoutModel",
          "model_module_version": "1.2.0",
          "state": {
            "_model_module": "@jupyter-widgets/base",
            "_model_module_version": "1.2.0",
            "_model_name": "LayoutModel",
            "_view_count": null,
            "_view_module": "@jupyter-widgets/base",
            "_view_module_version": "1.2.0",
            "_view_name": "LayoutView",
            "align_content": null,
            "align_items": null,
            "align_self": null,
            "border": null,
            "bottom": null,
            "display": null,
            "flex": null,
            "flex_flow": null,
            "grid_area": null,
            "grid_auto_columns": null,
            "grid_auto_flow": null,
            "grid_auto_rows": null,
            "grid_column": null,
            "grid_gap": null,
            "grid_row": null,
            "grid_template_areas": null,
            "grid_template_columns": null,
            "grid_template_rows": null,
            "height": null,
            "justify_content": null,
            "justify_items": null,
            "left": null,
            "margin": null,
            "max_height": null,
            "max_width": null,
            "min_height": null,
            "min_width": null,
            "object_fit": null,
            "object_position": null,
            "order": null,
            "overflow": null,
            "overflow_x": null,
            "overflow_y": null,
            "padding": null,
            "right": null,
            "top": null,
            "visibility": null,
            "width": null
          }
        },
        "b61e6170f7e644f38d013a74a043def4": {
          "model_module": "@jupyter-widgets/controls",
          "model_name": "DescriptionStyleModel",
          "model_module_version": "1.5.0",
          "state": {
            "_model_module": "@jupyter-widgets/controls",
            "_model_module_version": "1.5.0",
            "_model_name": "DescriptionStyleModel",
            "_view_count": null,
            "_view_module": "@jupyter-widgets/base",
            "_view_module_version": "1.2.0",
            "_view_name": "StyleView",
            "description_width": ""
          }
        },
        "62ec6f54e29248aca4c3f3247224fa52": {
          "model_module": "@jupyter-widgets/controls",
          "model_name": "HBoxModel",
          "model_module_version": "1.5.0",
          "state": {
            "_dom_classes": [],
            "_model_module": "@jupyter-widgets/controls",
            "_model_module_version": "1.5.0",
            "_model_name": "HBoxModel",
            "_view_count": null,
            "_view_module": "@jupyter-widgets/controls",
            "_view_module_version": "1.5.0",
            "_view_name": "HBoxView",
            "box_style": "",
            "children": [
              "IPY_MODEL_9f3ebdaf2009403aa63d9653cde64d87",
              "IPY_MODEL_cf28e204eba740c4b066f953b416606d",
              "IPY_MODEL_1cda2aded44e4fc08368ddfb7169c19c"
            ],
            "layout": "IPY_MODEL_716ce678e96d444fa2b916fdf29fbf6d"
          }
        },
        "9f3ebdaf2009403aa63d9653cde64d87": {
          "model_module": "@jupyter-widgets/controls",
          "model_name": "HTMLModel",
          "model_module_version": "1.5.0",
          "state": {
            "_dom_classes": [],
            "_model_module": "@jupyter-widgets/controls",
            "_model_module_version": "1.5.0",
            "_model_name": "HTMLModel",
            "_view_count": null,
            "_view_module": "@jupyter-widgets/controls",
            "_view_module_version": "1.5.0",
            "_view_name": "HTMLView",
            "description": "",
            "description_tooltip": null,
            "layout": "IPY_MODEL_a7daf984c4a246bcad7d88766dd9d360",
            "placeholder": "​",
            "style": "IPY_MODEL_423303fb0638417a9790d2be52eff502",
            "value": "Generating test split: "
          }
        },
        "cf28e204eba740c4b066f953b416606d": {
          "model_module": "@jupyter-widgets/controls",
          "model_name": "FloatProgressModel",
          "model_module_version": "1.5.0",
          "state": {
            "_dom_classes": [],
            "_model_module": "@jupyter-widgets/controls",
            "_model_module_version": "1.5.0",
            "_model_name": "FloatProgressModel",
            "_view_count": null,
            "_view_module": "@jupyter-widgets/controls",
            "_view_module_version": "1.5.0",
            "_view_name": "ProgressView",
            "bar_style": "success",
            "description": "",
            "description_tooltip": null,
            "layout": "IPY_MODEL_733523efe05f4bdb81d940ff0c0953fb",
            "max": 1,
            "min": 0,
            "orientation": "horizontal",
            "style": "IPY_MODEL_12356c2083ae4af9953e41dd6f72f8a5",
            "value": 1
          }
        },
        "1cda2aded44e4fc08368ddfb7169c19c": {
          "model_module": "@jupyter-widgets/controls",
          "model_name": "HTMLModel",
          "model_module_version": "1.5.0",
          "state": {
            "_dom_classes": [],
            "_model_module": "@jupyter-widgets/controls",
            "_model_module_version": "1.5.0",
            "_model_name": "HTMLModel",
            "_view_count": null,
            "_view_module": "@jupyter-widgets/controls",
            "_view_module_version": "1.5.0",
            "_view_name": "HTMLView",
            "description": "",
            "description_tooltip": null,
            "layout": "IPY_MODEL_42676599c402416097af80304ea62313",
            "placeholder": "​",
            "style": "IPY_MODEL_f4754ee0bf8e466f9529f542f6d6d6bd",
            "value": " 3453/0 [00:01&lt;00:00, 2853.19 examples/s]"
          }
        },
        "716ce678e96d444fa2b916fdf29fbf6d": {
          "model_module": "@jupyter-widgets/base",
          "model_name": "LayoutModel",
          "model_module_version": "1.2.0",
          "state": {
            "_model_module": "@jupyter-widgets/base",
            "_model_module_version": "1.2.0",
            "_model_name": "LayoutModel",
            "_view_count": null,
            "_view_module": "@jupyter-widgets/base",
            "_view_module_version": "1.2.0",
            "_view_name": "LayoutView",
            "align_content": null,
            "align_items": null,
            "align_self": null,
            "border": null,
            "bottom": null,
            "display": null,
            "flex": null,
            "flex_flow": null,
            "grid_area": null,
            "grid_auto_columns": null,
            "grid_auto_flow": null,
            "grid_auto_rows": null,
            "grid_column": null,
            "grid_gap": null,
            "grid_row": null,
            "grid_template_areas": null,
            "grid_template_columns": null,
            "grid_template_rows": null,
            "height": null,
            "justify_content": null,
            "justify_items": null,
            "left": null,
            "margin": null,
            "max_height": null,
            "max_width": null,
            "min_height": null,
            "min_width": null,
            "object_fit": null,
            "object_position": null,
            "order": null,
            "overflow": null,
            "overflow_x": null,
            "overflow_y": null,
            "padding": null,
            "right": null,
            "top": null,
            "visibility": null,
            "width": null
          }
        },
        "a7daf984c4a246bcad7d88766dd9d360": {
          "model_module": "@jupyter-widgets/base",
          "model_name": "LayoutModel",
          "model_module_version": "1.2.0",
          "state": {
            "_model_module": "@jupyter-widgets/base",
            "_model_module_version": "1.2.0",
            "_model_name": "LayoutModel",
            "_view_count": null,
            "_view_module": "@jupyter-widgets/base",
            "_view_module_version": "1.2.0",
            "_view_name": "LayoutView",
            "align_content": null,
            "align_items": null,
            "align_self": null,
            "border": null,
            "bottom": null,
            "display": null,
            "flex": null,
            "flex_flow": null,
            "grid_area": null,
            "grid_auto_columns": null,
            "grid_auto_flow": null,
            "grid_auto_rows": null,
            "grid_column": null,
            "grid_gap": null,
            "grid_row": null,
            "grid_template_areas": null,
            "grid_template_columns": null,
            "grid_template_rows": null,
            "height": null,
            "justify_content": null,
            "justify_items": null,
            "left": null,
            "margin": null,
            "max_height": null,
            "max_width": null,
            "min_height": null,
            "min_width": null,
            "object_fit": null,
            "object_position": null,
            "order": null,
            "overflow": null,
            "overflow_x": null,
            "overflow_y": null,
            "padding": null,
            "right": null,
            "top": null,
            "visibility": null,
            "width": null
          }
        },
        "423303fb0638417a9790d2be52eff502": {
          "model_module": "@jupyter-widgets/controls",
          "model_name": "DescriptionStyleModel",
          "model_module_version": "1.5.0",
          "state": {
            "_model_module": "@jupyter-widgets/controls",
            "_model_module_version": "1.5.0",
            "_model_name": "DescriptionStyleModel",
            "_view_count": null,
            "_view_module": "@jupyter-widgets/base",
            "_view_module_version": "1.2.0",
            "_view_name": "StyleView",
            "description_width": ""
          }
        },
        "733523efe05f4bdb81d940ff0c0953fb": {
          "model_module": "@jupyter-widgets/base",
          "model_name": "LayoutModel",
          "model_module_version": "1.2.0",
          "state": {
            "_model_module": "@jupyter-widgets/base",
            "_model_module_version": "1.2.0",
            "_model_name": "LayoutModel",
            "_view_count": null,
            "_view_module": "@jupyter-widgets/base",
            "_view_module_version": "1.2.0",
            "_view_name": "LayoutView",
            "align_content": null,
            "align_items": null,
            "align_self": null,
            "border": null,
            "bottom": null,
            "display": null,
            "flex": null,
            "flex_flow": null,
            "grid_area": null,
            "grid_auto_columns": null,
            "grid_auto_flow": null,
            "grid_auto_rows": null,
            "grid_column": null,
            "grid_gap": null,
            "grid_row": null,
            "grid_template_areas": null,
            "grid_template_columns": null,
            "grid_template_rows": null,
            "height": null,
            "justify_content": null,
            "justify_items": null,
            "left": null,
            "margin": null,
            "max_height": null,
            "max_width": null,
            "min_height": null,
            "min_width": null,
            "object_fit": null,
            "object_position": null,
            "order": null,
            "overflow": null,
            "overflow_x": null,
            "overflow_y": null,
            "padding": null,
            "right": null,
            "top": null,
            "visibility": null,
            "width": "20px"
          }
        },
        "12356c2083ae4af9953e41dd6f72f8a5": {
          "model_module": "@jupyter-widgets/controls",
          "model_name": "ProgressStyleModel",
          "model_module_version": "1.5.0",
          "state": {
            "_model_module": "@jupyter-widgets/controls",
            "_model_module_version": "1.5.0",
            "_model_name": "ProgressStyleModel",
            "_view_count": null,
            "_view_module": "@jupyter-widgets/base",
            "_view_module_version": "1.2.0",
            "_view_name": "StyleView",
            "bar_color": null,
            "description_width": ""
          }
        },
        "42676599c402416097af80304ea62313": {
          "model_module": "@jupyter-widgets/base",
          "model_name": "LayoutModel",
          "model_module_version": "1.2.0",
          "state": {
            "_model_module": "@jupyter-widgets/base",
            "_model_module_version": "1.2.0",
            "_model_name": "LayoutModel",
            "_view_count": null,
            "_view_module": "@jupyter-widgets/base",
            "_view_module_version": "1.2.0",
            "_view_name": "LayoutView",
            "align_content": null,
            "align_items": null,
            "align_self": null,
            "border": null,
            "bottom": null,
            "display": null,
            "flex": null,
            "flex_flow": null,
            "grid_area": null,
            "grid_auto_columns": null,
            "grid_auto_flow": null,
            "grid_auto_rows": null,
            "grid_column": null,
            "grid_gap": null,
            "grid_row": null,
            "grid_template_areas": null,
            "grid_template_columns": null,
            "grid_template_rows": null,
            "height": null,
            "justify_content": null,
            "justify_items": null,
            "left": null,
            "margin": null,
            "max_height": null,
            "max_width": null,
            "min_height": null,
            "min_width": null,
            "object_fit": null,
            "object_position": null,
            "order": null,
            "overflow": null,
            "overflow_x": null,
            "overflow_y": null,
            "padding": null,
            "right": null,
            "top": null,
            "visibility": null,
            "width": null
          }
        },
        "f4754ee0bf8e466f9529f542f6d6d6bd": {
          "model_module": "@jupyter-widgets/controls",
          "model_name": "DescriptionStyleModel",
          "model_module_version": "1.5.0",
          "state": {
            "_model_module": "@jupyter-widgets/controls",
            "_model_module_version": "1.5.0",
            "_model_name": "DescriptionStyleModel",
            "_view_count": null,
            "_view_module": "@jupyter-widgets/base",
            "_view_module_version": "1.2.0",
            "_view_name": "StyleView",
            "description_width": ""
          }
        }
      }
    },
    "accelerator": "GPU"
  },
  "nbformat": 4,
  "nbformat_minor": 0
}